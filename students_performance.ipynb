{
 "cells": [
  {
   "cell_type": "code",
   "execution_count": 1,
   "id": "b8f797fa-1dd7-4e48-9085-638f0e11353e",
   "metadata": {
    "tags": []
   },
   "outputs": [],
   "source": [
    "import numpy as np\n",
    "import pandas as pd\n",
    "import matplotlib.pyplot as plt\n",
    "import seaborn as sns"
   ]
  },
  {
   "cell_type": "code",
   "execution_count": 2,
   "id": "cfa9816e-3ea5-4061-b228-20ca873b45f8",
   "metadata": {
    "tags": []
   },
   "outputs": [
    {
     "data": {
      "text/html": [
       "<div>\n",
       "<style scoped>\n",
       "    .dataframe tbody tr th:only-of-type {\n",
       "        vertical-align: middle;\n",
       "    }\n",
       "\n",
       "    .dataframe tbody tr th {\n",
       "        vertical-align: top;\n",
       "    }\n",
       "\n",
       "    .dataframe thead th {\n",
       "        text-align: right;\n",
       "    }\n",
       "</style>\n",
       "<table border=\"1\" class=\"dataframe\">\n",
       "  <thead>\n",
       "    <tr style=\"text-align: right;\">\n",
       "      <th></th>\n",
       "      <th>gender</th>\n",
       "      <th>race/ethnicity</th>\n",
       "      <th>parental level of education</th>\n",
       "      <th>lunch</th>\n",
       "      <th>test preparation course</th>\n",
       "      <th>math score</th>\n",
       "      <th>reading score</th>\n",
       "      <th>writing score</th>\n",
       "    </tr>\n",
       "  </thead>\n",
       "  <tbody>\n",
       "    <tr>\n",
       "      <th>0</th>\n",
       "      <td>female</td>\n",
       "      <td>group B</td>\n",
       "      <td>bachelor's degree</td>\n",
       "      <td>standard</td>\n",
       "      <td>none</td>\n",
       "      <td>72</td>\n",
       "      <td>72</td>\n",
       "      <td>74</td>\n",
       "    </tr>\n",
       "    <tr>\n",
       "      <th>1</th>\n",
       "      <td>female</td>\n",
       "      <td>group C</td>\n",
       "      <td>some college</td>\n",
       "      <td>standard</td>\n",
       "      <td>completed</td>\n",
       "      <td>69</td>\n",
       "      <td>90</td>\n",
       "      <td>88</td>\n",
       "    </tr>\n",
       "    <tr>\n",
       "      <th>2</th>\n",
       "      <td>female</td>\n",
       "      <td>group B</td>\n",
       "      <td>master's degree</td>\n",
       "      <td>standard</td>\n",
       "      <td>none</td>\n",
       "      <td>90</td>\n",
       "      <td>95</td>\n",
       "      <td>93</td>\n",
       "    </tr>\n",
       "    <tr>\n",
       "      <th>3</th>\n",
       "      <td>male</td>\n",
       "      <td>group A</td>\n",
       "      <td>associate's degree</td>\n",
       "      <td>free/reduced</td>\n",
       "      <td>none</td>\n",
       "      <td>47</td>\n",
       "      <td>57</td>\n",
       "      <td>44</td>\n",
       "    </tr>\n",
       "    <tr>\n",
       "      <th>4</th>\n",
       "      <td>male</td>\n",
       "      <td>group C</td>\n",
       "      <td>some college</td>\n",
       "      <td>standard</td>\n",
       "      <td>none</td>\n",
       "      <td>76</td>\n",
       "      <td>78</td>\n",
       "      <td>75</td>\n",
       "    </tr>\n",
       "  </tbody>\n",
       "</table>\n",
       "</div>"
      ],
      "text/plain": [
       "   gender race/ethnicity parental level of education         lunch  \\\n",
       "0  female        group B           bachelor's degree      standard   \n",
       "1  female        group C                some college      standard   \n",
       "2  female        group B             master's degree      standard   \n",
       "3    male        group A          associate's degree  free/reduced   \n",
       "4    male        group C                some college      standard   \n",
       "\n",
       "  test preparation course  math score  reading score  writing score  \n",
       "0                    none          72             72             74  \n",
       "1               completed          69             90             88  \n",
       "2                    none          90             95             93  \n",
       "3                    none          47             57             44  \n",
       "4                    none          76             78             75  "
      ]
     },
     "execution_count": 2,
     "metadata": {},
     "output_type": "execute_result"
    }
   ],
   "source": [
    "df = pd.read_csv(\"datasets/StudentsPerformance.csv\")\n",
    "df.head()"
   ]
  },
  {
   "cell_type": "code",
   "execution_count": 3,
   "id": "9434444c-4747-4f94-83e9-230b87e8ac2b",
   "metadata": {
    "tags": []
   },
   "outputs": [
    {
     "data": {
      "text/plain": [
       "gender                         0\n",
       "race/ethnicity                 0\n",
       "parental level of education    0\n",
       "lunch                          0\n",
       "test preparation course        0\n",
       "math score                     0\n",
       "reading score                  0\n",
       "writing score                  0\n",
       "dtype: int64"
      ]
     },
     "execution_count": 3,
     "metadata": {},
     "output_type": "execute_result"
    }
   ],
   "source": [
    "df.isnull().sum()"
   ]
  },
  {
   "cell_type": "code",
   "execution_count": 4,
   "id": "0b54c05e-c853-4118-a1b0-3ca95f0b57d7",
   "metadata": {
    "tags": []
   },
   "outputs": [
    {
     "name": "stdout",
     "output_type": "stream",
     "text": [
      "<class 'pandas.core.frame.DataFrame'>\n",
      "RangeIndex: 1000 entries, 0 to 999\n",
      "Data columns (total 8 columns):\n",
      " #   Column                       Non-Null Count  Dtype \n",
      "---  ------                       --------------  ----- \n",
      " 0   gender                       1000 non-null   object\n",
      " 1   race/ethnicity               1000 non-null   object\n",
      " 2   parental level of education  1000 non-null   object\n",
      " 3   lunch                        1000 non-null   object\n",
      " 4   test preparation course      1000 non-null   object\n",
      " 5   math score                   1000 non-null   int64 \n",
      " 6   reading score                1000 non-null   int64 \n",
      " 7   writing score                1000 non-null   int64 \n",
      "dtypes: int64(3), object(5)\n",
      "memory usage: 62.6+ KB\n"
     ]
    }
   ],
   "source": [
    "df.info()"
   ]
  },
  {
   "cell_type": "code",
   "execution_count": 5,
   "id": "92c594bf-7581-470d-971a-197409a29103",
   "metadata": {
    "tags": []
   },
   "outputs": [
    {
     "data": {
      "text/plain": [
       "1000"
      ]
     },
     "execution_count": 5,
     "metadata": {},
     "output_type": "execute_result"
    }
   ],
   "source": [
    "df[\"gender\"].count()"
   ]
  },
  {
   "cell_type": "code",
   "execution_count": 6,
   "id": "2da83bf4-a6e7-4a44-8e45-67387dc76555",
   "metadata": {
    "tags": []
   },
   "outputs": [
    {
     "data": {
      "text/plain": [
       "group C    319\n",
       "group D    262\n",
       "group B    190\n",
       "group E    140\n",
       "group A     89\n",
       "Name: race/ethnicity, dtype: int64"
      ]
     },
     "execution_count": 6,
     "metadata": {},
     "output_type": "execute_result"
    }
   ],
   "source": [
    "df[\"race/ethnicity\"].value_counts() #kaç farklı grup var"
   ]
  },
  {
   "cell_type": "code",
   "execution_count": 7,
   "id": "99fb211c-5330-4e64-b29d-6e557f5652bb",
   "metadata": {
    "tags": []
   },
   "outputs": [
    {
     "data": {
      "text/plain": [
       "array([\"bachelor's degree\", 'some college', \"master's degree\",\n",
       "       \"associate's degree\", 'high school', 'some high school'],\n",
       "      dtype=object)"
      ]
     },
     "execution_count": 7,
     "metadata": {},
     "output_type": "execute_result"
    }
   ],
   "source": [
    "df[\"parental level of education\"].unique() #kaç farklı education türü var?"
   ]
  },
  {
   "cell_type": "code",
   "execution_count": 8,
   "id": "a07ff5b6-560c-4c67-9f4a-3b5e106ed8f9",
   "metadata": {
    "tags": []
   },
   "outputs": [
    {
     "data": {
      "text/plain": [
       "parental level of education\n",
       "associate's degree    222\n",
       "bachelor's degree     118\n",
       "high school           196\n",
       "master's degree        59\n",
       "some college          226\n",
       "some high school      179\n",
       "Name: gender, dtype: int64"
      ]
     },
     "execution_count": 8,
     "metadata": {},
     "output_type": "execute_result"
    }
   ],
   "source": [
    "df.groupby(\"parental level of education\")[\"gender\"].count()"
   ]
  },
  {
   "cell_type": "code",
   "execution_count": 9,
   "id": "9d293577-6aa8-4fe2-b48d-8f8fefd146f6",
   "metadata": {
    "tags": []
   },
   "outputs": [
    {
     "data": {
      "text/plain": [
       "Index(['gender', 'race/ethnicity', 'parental level of education', 'lunch',\n",
       "       'test preparation course', 'math score', 'reading score',\n",
       "       'writing score'],\n",
       "      dtype='object')"
      ]
     },
     "execution_count": 9,
     "metadata": {},
     "output_type": "execute_result"
    }
   ],
   "source": [
    "df.columns"
   ]
  },
  {
   "cell_type": "code",
   "execution_count": 10,
   "id": "8c8edce1-9495-45cd-bc26-806fe722e9d8",
   "metadata": {
    "tags": []
   },
   "outputs": [
    {
     "data": {
      "text/plain": [
       "gender                          2\n",
       "race/ethnicity                  5\n",
       "parental level of education     6\n",
       "lunch                           2\n",
       "test preparation course         2\n",
       "math score                     81\n",
       "reading score                  72\n",
       "writing score                  77\n",
       "dtype: int64"
      ]
     },
     "execution_count": 10,
     "metadata": {},
     "output_type": "execute_result"
    }
   ],
   "source": [
    "df.nunique() #sütunların içinde kaç farklı tür var"
   ]
  },
  {
   "cell_type": "code",
   "execution_count": 11,
   "id": "d1f3ccec-18a5-41e9-ba33-ec9591a590e0",
   "metadata": {
    "tags": []
   },
   "outputs": [
    {
     "data": {
      "text/html": [
       "<div>\n",
       "<style scoped>\n",
       "    .dataframe tbody tr th:only-of-type {\n",
       "        vertical-align: middle;\n",
       "    }\n",
       "\n",
       "    .dataframe tbody tr th {\n",
       "        vertical-align: top;\n",
       "    }\n",
       "\n",
       "    .dataframe thead th {\n",
       "        text-align: right;\n",
       "    }\n",
       "</style>\n",
       "<table border=\"1\" class=\"dataframe\">\n",
       "  <thead>\n",
       "    <tr style=\"text-align: right;\">\n",
       "      <th></th>\n",
       "      <th>count</th>\n",
       "      <th>mean</th>\n",
       "      <th>std</th>\n",
       "      <th>min</th>\n",
       "      <th>25%</th>\n",
       "      <th>50%</th>\n",
       "      <th>75%</th>\n",
       "      <th>max</th>\n",
       "    </tr>\n",
       "  </thead>\n",
       "  <tbody>\n",
       "    <tr>\n",
       "      <th>math score</th>\n",
       "      <td>1000.0</td>\n",
       "      <td>66.089</td>\n",
       "      <td>15.163080</td>\n",
       "      <td>0.0</td>\n",
       "      <td>57.00</td>\n",
       "      <td>66.0</td>\n",
       "      <td>77.0</td>\n",
       "      <td>100.0</td>\n",
       "    </tr>\n",
       "    <tr>\n",
       "      <th>reading score</th>\n",
       "      <td>1000.0</td>\n",
       "      <td>69.169</td>\n",
       "      <td>14.600192</td>\n",
       "      <td>17.0</td>\n",
       "      <td>59.00</td>\n",
       "      <td>70.0</td>\n",
       "      <td>79.0</td>\n",
       "      <td>100.0</td>\n",
       "    </tr>\n",
       "    <tr>\n",
       "      <th>writing score</th>\n",
       "      <td>1000.0</td>\n",
       "      <td>68.054</td>\n",
       "      <td>15.195657</td>\n",
       "      <td>10.0</td>\n",
       "      <td>57.75</td>\n",
       "      <td>69.0</td>\n",
       "      <td>79.0</td>\n",
       "      <td>100.0</td>\n",
       "    </tr>\n",
       "  </tbody>\n",
       "</table>\n",
       "</div>"
      ],
      "text/plain": [
       "                count    mean        std   min    25%   50%   75%    max\n",
       "math score     1000.0  66.089  15.163080   0.0  57.00  66.0  77.0  100.0\n",
       "reading score  1000.0  69.169  14.600192  17.0  59.00  70.0  79.0  100.0\n",
       "writing score  1000.0  68.054  15.195657  10.0  57.75  69.0  79.0  100.0"
      ]
     },
     "execution_count": 11,
     "metadata": {},
     "output_type": "execute_result"
    }
   ],
   "source": [
    "df.describe().T"
   ]
  },
  {
   "cell_type": "code",
   "execution_count": 12,
   "id": "5c44ced8-b194-48a7-9570-2f809dc341d7",
   "metadata": {
    "tags": []
   },
   "outputs": [
    {
     "data": {
      "image/png": "[encoded data removed]",
      "text/plain": [
       "<Figure size 1000x600 with 1 Axes>"
      ]
     },
     "metadata": {},
     "output_type": "display_data"
    }
   ],
   "source": [
    "plt.figure(figsize=(10, 6))\n",
    "p = sns.countplot(x=\"math score\",data = df, palette=\"muted\")\n",
    "plt.xticks(rotation=90,fontsize=7)\n",
    "plt.show()"
   ]
  },
  {
   "cell_type": "code",
   "execution_count": 13,
   "id": "a3340c40-4d9a-4628-842e-8e17aa1a5d60",
   "metadata": {
    "tags": []
   },
   "outputs": [
    {
     "data": {
      "text/plain": [
       "P    865\n",
       "F    135\n",
       "Name: Math_PassStatus, dtype: int64"
      ]
     },
     "execution_count": 13,
     "metadata": {},
     "output_type": "execute_result"
    }
   ],
   "source": [
    "passmark = 50    #50 den düşük alanlar F yüksek alanlar P\n",
    "df[\"Math_PassStatus\"] = np.where(df[\"math score\"] < passmark,\"F\",\"P\")\n",
    "df.Math_PassStatus.value_counts()"
   ]
  },
  {
   "cell_type": "code",
   "execution_count": 14,
   "id": "7ef102ba-ef7d-4da5-9113-001da12abb13",
   "metadata": {
    "tags": []
   },
   "outputs": [
    {
     "data": {
      "text/plain": [
       "gender                                       male\n",
       "race/ethnicity                            group A\n",
       "parental level of education    associate's degree\n",
       "lunch                                free/reduced\n",
       "test preparation course                      none\n",
       "math score                                     47\n",
       "reading score                                  57\n",
       "writing score                                  44\n",
       "Math_PassStatus                                 F\n",
       "Name: 3, dtype: object"
      ]
     },
     "execution_count": 14,
     "metadata": {},
     "output_type": "execute_result"
    }
   ],
   "source": [
    "df[df[\"Math_PassStatus\"] == \"F\"].iloc[0]"
   ]
  },
  {
   "cell_type": "code",
   "execution_count": 15,
   "id": "61449613-c89d-4793-95e0-916bd712c388",
   "metadata": {
    "tags": []
   },
   "outputs": [
    {
     "data": {
      "image/png": "[encoded data removed]",
      "text/plain": [
       "<Figure size 1000x600 with 1 Axes>"
      ]
     },
     "metadata": {},
     "output_type": "display_data"
    }
   ],
   "source": [
    "plt.figure(figsize=(10, 6))\n",
    "p = sns.countplot(x=\"parental level of education\",data = df,hue=\"Math_PassStatus\", palette=\"bright\")\n",
    "plt.xticks(rotation=0,fontsize=9)\n",
    "plt.show()"
   ]
  },
  {
   "cell_type": "code",
   "execution_count": 16,
   "id": "d7474931-ab2d-4bc9-a345-86aed9c64207",
   "metadata": {
    "tags": []
   },
   "outputs": [
    {
     "data": {
      "text/plain": [
       "some college          226\n",
       "associate's degree    222\n",
       "high school           196\n",
       "some high school      179\n",
       "bachelor's degree     118\n",
       "master's degree        59\n",
       "Name: parental level of education, dtype: int64"
      ]
     },
     "execution_count": 16,
     "metadata": {},
     "output_type": "execute_result"
    }
   ],
   "source": [
    "df[\"parental level of education\"].value_counts()"
   ]
  },
  {
   "cell_type": "code",
   "execution_count": 17,
   "id": "7305541f-85ad-41c9-812f-8028aa61ca58",
   "metadata": {
    "tags": []
   },
   "outputs": [
    {
     "data": {
      "text/plain": [
       "118"
      ]
     },
     "execution_count": 17,
     "metadata": {},
     "output_type": "execute_result"
    }
   ],
   "source": [
    "bachelorcount = df[df[\"parental level of education\"] == \"bachelor's degree\"][\"Math_PassStatus\" ].count()\n",
    "bachelorcount   #toplam veren kod"
   ]
  },
  {
   "cell_type": "code",
   "execution_count": 18,
   "id": "645e0ea5-9a3e-4e61-b7cd-c29ba9a259ff",
   "metadata": {
    "tags": []
   },
   "outputs": [
    {
     "data": {
      "text/plain": [
       "107"
      ]
     },
     "execution_count": 18,
     "metadata": {},
     "output_type": "execute_result"
    }
   ],
   "source": [
    "bacpassdf = df[(df[\"parental level of education\"] == \"bachelor's degree\") & (df[\"Math_PassStatus\"] == \"P\")].shape[0]\n",
    "bacpassdf  #bachelors degree passed öğrenci sayısı"
   ]
  },
  {
   "cell_type": "code",
   "execution_count": 19,
   "id": "c56646a9-a8d0-45e9-bbe6-235597811612",
   "metadata": {
    "tags": []
   },
   "outputs": [
    {
     "data": {
      "text/plain": [
       "11"
      ]
     },
     "execution_count": 19,
     "metadata": {},
     "output_type": "execute_result"
    }
   ],
   "source": [
    "bacfaildf = df[(df[\"parental level of education\"] == \"bachelor's degree\") & (df[\"Math_PassStatus\"] == \"F\")].shape[0]\n",
    "bacfaildf  #bachelors degree failed öğrenci sayısı"
   ]
  },
  {
   "cell_type": "code",
   "execution_count": 20,
   "id": "3c59efd9-fbf7-4d80-a17b-09d5725b3c68",
   "metadata": {
    "tags": []
   },
   "outputs": [
    {
     "name": "stdout",
     "output_type": "stream",
     "text": [
      "Bachelor's Degree: 9.73\n"
     ]
    }
   ],
   "source": [
    "bachelor = bacpassdf/bacfaildf\n",
    "print(\"Bachelor's Degree: {:.2f}\".format(bachelor))"
   ]
  },
  {
   "cell_type": "code",
   "execution_count": 21,
   "id": "d063a6b9-293a-42d6-8ffe-df28d53acba7",
   "metadata": {
    "tags": []
   },
   "outputs": [
    {
     "name": "stdout",
     "output_type": "stream",
     "text": [
      "Some College: 9.27\n"
     ]
    }
   ],
   "source": [
    "somcount = df[df[\"parental level of education\"] == \"some college\"][\"Math_PassStatus\" ].count()\n",
    "somcount\n",
    "sompassdf = df[(df[\"parental level of education\"] == \"some college\") & (df[\"Math_PassStatus\"] == \"P\")].shape[0]\n",
    "sompassdf  #bachelors degree passed öğrenci sayısı\n",
    "somfaildf = df[(df[\"parental level of education\"] == \"some college\") & (df[\"Math_PassStatus\"] == \"F\")].shape[0]\n",
    "somfaildf  #bachelors degree failed öğrenci sayısı\n",
    "some = sompassdf/somfaildf\n",
    "print(\"Some College: {:.2f}\".format(some))"
   ]
  },
  {
   "cell_type": "code",
   "execution_count": 22,
   "id": "8d2ba4ec-6c92-4618-9abb-1fad2da53a27",
   "metadata": {
    "tags": []
   },
   "outputs": [
    {
     "name": "stdout",
     "output_type": "stream",
     "text": [
      "master's degree: 8.83\n"
     ]
    }
   ],
   "source": [
    "mastcount = df[df[\"parental level of education\"] == \"master's degree\"][\"Math_PassStatus\" ].count()\n",
    "mastcount\n",
    "mastpassdf = df[(df[\"parental level of education\"] == \"master's degree\") & (df[\"Math_PassStatus\"] == \"P\")].shape[0]\n",
    "mastpassdf  #bachelors degree passed öğrenci sayısı\n",
    "mastfaildf = df[(df[\"parental level of education\"] == \"master's degree\") & (df[\"Math_PassStatus\"] == \"F\")].shape[0]\n",
    "mastfaildf  #bachelors degree failed öğrenci sayısı\n",
    "master = mastpassdf/mastfaildf\n",
    "print(\"master's degree: {:.2f}\".format(master))"
   ]
  },
  {
   "cell_type": "code",
   "execution_count": 23,
   "id": "38af536b-8202-4632-8faa-4ba853812632",
   "metadata": {
    "tags": []
   },
   "outputs": [
    {
     "name": "stdout",
     "output_type": "stream",
     "text": [
      "associate's degree: 7.22\n"
     ]
    }
   ],
   "source": [
    "asscount = df[df[\"parental level of education\"] == \"associate's degree\"][\"Math_PassStatus\" ].count()\n",
    "asscount\n",
    "asspassdf = df[(df[\"parental level of education\"] == \"associate's degree\") & (df[\"Math_PassStatus\"] == \"P\")].shape[0]\n",
    "asspassdf  #bachelors degree passed öğrenci sayısı\n",
    "assfaildf = df[(df[\"parental level of education\"] == \"associate's degree\") & (df[\"Math_PassStatus\"] == \"F\")].shape[0]\n",
    "assfaildf  #bachelors degree failed öğrenci sayısı\n",
    "asso = asspassdf/assfaildf\n",
    "print(\"associate's degree: {:.2f}\".format(asso))"
   ]
  },
  {
   "cell_type": "code",
   "execution_count": 24,
   "id": "d670f9a4-9793-4042-b7b0-5bfc04f73515",
   "metadata": {
    "tags": []
   },
   "outputs": [
    {
     "name": "stdout",
     "output_type": "stream",
     "text": [
      "High School: 4.94\n"
     ]
    }
   ],
   "source": [
    "higcount = df[df[\"parental level of education\"] == \"high school\"][\"Math_PassStatus\" ].count()\n",
    "higcount\n",
    "higpassdf = df[(df[\"parental level of education\"] == \"high school\") & (df[\"Math_PassStatus\"] == \"P\")].shape[0]\n",
    "higpassdf  #bachelors degree passed öğrenci sayısı\n",
    "higfaildf = df[(df[\"parental level of education\"] == \"high school\") & (df[\"Math_PassStatus\"] == \"F\")].shape[0]\n",
    "higfaildf  #bachelors degree failed öğrenci sayısı\n",
    "high = higpassdf/higfaildf\n",
    "print(\"High School: {:.2f}\".format(high))"
   ]
  },
  {
   "cell_type": "code",
   "execution_count": 25,
   "id": "40cba2a2-7b74-43b1-9309-8eb345e569d2",
   "metadata": {
    "tags": []
   },
   "outputs": [
    {
     "name": "stdout",
     "output_type": "stream",
     "text": [
      "Some High School: 3.97\n"
     ]
    }
   ],
   "source": [
    "shigcount = df[df[\"parental level of education\"] == \"some high school\"][\"Math_PassStatus\" ].count()\n",
    "shigcount\n",
    "shigpassdf = df[(df[\"parental level of education\"] == \"some high school\") & (df[\"Math_PassStatus\"] == \"P\")].shape[0]\n",
    "shigpassdf  #bachelors degree passed öğrenci sayısı\n",
    "shigfaildf = df[(df[\"parental level of education\"] == \"some high school\") & (df[\"Math_PassStatus\"] == \"F\")].shape[0]\n",
    "shigfaildf  #bachelors degree failed öğrenci sayısı\n",
    "shigh = shigpassdf/shigfaildf\n",
    "print(\"Some High School: {:.2f}\".format(shigh))"
   ]
  },
  {
   "cell_type": "code",
   "execution_count": 26,
   "id": "89cd5970-c29f-4e06-81b1-7cd6bb53193f",
   "metadata": {
    "tags": []
   },
   "outputs": [
    {
     "name": "stdout",
     "output_type": "stream",
     "text": [
      "Bachelor's Degree: 9.73\n",
      "Some College: 9.27\n",
      "master's degree: 8.83\n",
      "associate's degree: 7.22\n",
      "High School: 4.94\n",
      "Some High School: 3.97\n"
     ]
    }
   ],
   "source": [
    "print(\"Bachelor's Degree: {:.2f}\".format(bachelor))\n",
    "print(\"Some College: {:.2f}\".format(some))\n",
    "print(\"master's degree: {:.2f}\".format(master))\n",
    "print(\"associate's degree: {:.2f}\".format(asso))\n",
    "print(\"High School: {:.2f}\".format(high))\n",
    "print(\"Some High School: {:.2f}\".format(shigh))"
   ]
  },
  {
   "cell_type": "code",
   "execution_count": 27,
   "id": "c460f321-bb35-4bf2-b13d-dfb78c50c5e7",
   "metadata": {
    "tags": []
   },
   "outputs": [
    {
     "name": "stdout",
     "output_type": "stream",
     "text": [
      "Math Score\n",
      "Bachelor's Degree Başarı Oranı: 90.68\n",
      "Some College Başarı Oranı: 90.27\n",
      "master's Degree Başarı Oranı: 89.83\n",
      "Associate's Degree Başarı Oranı: 87.84\n",
      "High School Başarı Oranı: 83.16\n",
      "Some High School Başarı Oranı: 79.89\n"
     ]
    }
   ],
   "source": [
    "print(\"Math Score\")\n",
    "bachelorss =  (bacpassdf/bachelorcount) * 100\n",
    "print(\"Bachelor's Degree Başarı Oranı: {:.2f}\".format(bachelorss))\n",
    "\n",
    "someh =  (sompassdf/somcount) * 100\n",
    "print(\"Some College Başarı Oranı: {:.2f}\".format(someh))\n",
    "\n",
    "maste =  (mastpassdf/mastcount) * 100\n",
    "print(\"master's Degree Başarı Oranı: {:.2f}\".format(maste))\n",
    "\n",
    "associ =  (asspassdf/asscount) * 100\n",
    "print(\"Associate's Degree Başarı Oranı: {:.2f}\".format(associ))\n",
    "\n",
    "highs =  (higpassdf/higcount) * 100\n",
    "print(\"High School Başarı Oranı: {:.2f}\".format(highs))\n",
    "\n",
    "somhighs =  (shigpassdf/shigcount) * 100\n",
    "print(\"Some High School Başarı Oranı: {:.2f}\".format(somhighs))"
   ]
  },
  {
   "cell_type": "code",
   "execution_count": 28,
   "id": "53458c5b-54c2-471b-a35b-1ccf184078f5",
   "metadata": {
    "tags": []
   },
   "outputs": [
    {
     "data": {
      "image/png": "[encoded data removed]",
      "text/plain": [
       "<Figure size 1000x600 with 1 Axes>"
      ]
     },
     "metadata": {},
     "output_type": "display_data"
    }
   ],
   "source": [
    "plt.figure(figsize=(10, 6))\n",
    "p = sns.countplot(x=\"reading score\",data = df, palette=\"muted\")\n",
    "plt.xticks(rotation=90,fontsize=7)\n",
    "plt.show()"
   ]
  },
  {
   "cell_type": "code",
   "execution_count": 29,
   "id": "675cdab5-eb20-4f86-9efd-1298d4ca2bf7",
   "metadata": {
    "tags": []
   },
   "outputs": [
    {
     "data": {
      "text/plain": [
       "P    910\n",
       "F     90\n",
       "Name: Reading_PassStatus, dtype: int64"
      ]
     },
     "execution_count": 29,
     "metadata": {},
     "output_type": "execute_result"
    }
   ],
   "source": [
    "passmark = 50    #50 den düşük alanlar F yüksek alanlar P\n",
    "df[\"Reading_PassStatus\"] = np.where(df[\"reading score\"] < passmark,\"F\",\"P\")\n",
    "df.Reading_PassStatus.value_counts()"
   ]
  },
  {
   "cell_type": "code",
   "execution_count": 30,
   "id": "bdf4b38b-56fa-497c-a48a-51e14566d63d",
   "metadata": {
    "tags": []
   },
   "outputs": [
    {
     "data": {
      "image/png": "[encoded data removed]",
      "text/plain": [
       "<Figure size 1000x600 with 1 Axes>"
      ]
     },
     "metadata": {},
     "output_type": "display_data"
    }
   ],
   "source": [
    "plt.figure(figsize=(10, 6))\n",
    "p = sns.countplot(x=\"parental level of education\",data = df,hue=\"Reading_PassStatus\", palette=\"bright\")\n",
    "plt.xticks(rotation=0,fontsize=9)\n",
    "plt.show()"
   ]
  },
  {
   "cell_type": "code",
   "execution_count": 31,
   "id": "be694976-a40c-4ca0-ace2-e52ff4e89b6b",
   "metadata": {
    "tags": []
   },
   "outputs": [
    {
     "data": {
      "image/png": "[encoded data removed]",
      "text/plain": [
       "<Figure size 1000x600 with 1 Axes>"
      ]
     },
     "metadata": {},
     "output_type": "display_data"
    }
   ],
   "source": [
    "plt.figure(figsize=(10, 6))\n",
    "p = sns.countplot(x=\"writing score\",data = df, palette=\"muted\")\n",
    "plt.xticks(rotation=90,fontsize=7)\n",
    "plt.show()"
   ]
  },
  {
   "cell_type": "code",
   "execution_count": 32,
   "id": "349ec220-46b4-467b-9333-951995c24551",
   "metadata": {
    "tags": []
   },
   "outputs": [
    {
     "data": {
      "text/plain": [
       "P    886\n",
       "F    114\n",
       "Name: Writing_PassStatus, dtype: int64"
      ]
     },
     "execution_count": 32,
     "metadata": {},
     "output_type": "execute_result"
    }
   ],
   "source": [
    "passmark = 50    #50 den düşük alanlar F yüksek alanlar P\n",
    "df[\"Writing_PassStatus\"] = np.where(df[\"writing score\"] < passmark,\"F\",\"P\")\n",
    "df.Writing_PassStatus.value_counts()"
   ]
  },
  {
   "cell_type": "code",
   "execution_count": 33,
   "id": "ede4e4b6-0d16-4833-9bb4-6382702396ab",
   "metadata": {
    "tags": []
   },
   "outputs": [
    {
     "data": {
      "image/png": "[encoded data removed]",
      "text/plain": [
       "<Figure size 1000x600 with 1 Axes>"
      ]
     },
     "metadata": {},
     "output_type": "display_data"
    }
   ],
   "source": [
    "plt.figure(figsize=(10, 6))\n",
    "p = sns.countplot(x=\"parental level of education\",data = df,hue=\"Writing_PassStatus\", palette=\"bright\")\n",
    "plt.xticks(rotation=0,fontsize=9)\n",
    "plt.show()"
   ]
  },
  {
   "cell_type": "code",
   "execution_count": 34,
   "id": "a97df4d5-5f39-412c-add7-769e32b80411",
   "metadata": {
    "tags": []
   },
   "outputs": [
    {
     "name": "stdout",
     "output_type": "stream",
     "text": [
      "58 1\n"
     ]
    }
   ],
   "source": [
    "masttpassdf = df[(df[\"parental level of education\"] == \"master's degree\") & (df[\"Writing_PassStatus\"] == \"P\")].shape[0]\n",
    "masttpassdf  #masters degree passed öğrenci sayısı\n",
    "masttfaildf = df[(df[\"parental level of education\"] == \"master's degree\") & (df[\"Writing_PassStatus\"] == \"F\")].shape[0]\n",
    "masttfaildf  #masters degree failed öğrenci sayısı\n",
    "print(masttpassdf,masttfaildf) #58 P 1 F"
   ]
  },
  {
   "cell_type": "code",
   "execution_count": 35,
   "id": "1c0b7521-35cd-4d95-b1d7-5d77fd88ccba",
   "metadata": {
    "tags": []
   },
   "outputs": [
    {
     "data": {
      "text/plain": [
       "59"
      ]
     },
     "execution_count": 35,
     "metadata": {},
     "output_type": "execute_result"
    }
   ],
   "source": [
    "masttcount = df[df[\"parental level of education\"] == \"master's degree\"][\"Writing_PassStatus\" ].count()\n",
    "masttcount   # Toplam 59 kişi"
   ]
  },
  {
   "cell_type": "code",
   "execution_count": 36,
   "id": "68bfc032-3aca-4429-82e3-9eeb68b03e25",
   "metadata": {
    "tags": []
   },
   "outputs": [
    {
     "data": {
      "text/html": [
       "<div>\n",
       "<style scoped>\n",
       "    .dataframe tbody tr th:only-of-type {\n",
       "        vertical-align: middle;\n",
       "    }\n",
       "\n",
       "    .dataframe tbody tr th {\n",
       "        vertical-align: top;\n",
       "    }\n",
       "\n",
       "    .dataframe thead th {\n",
       "        text-align: right;\n",
       "    }\n",
       "</style>\n",
       "<table border=\"1\" class=\"dataframe\">\n",
       "  <thead>\n",
       "    <tr style=\"text-align: right;\">\n",
       "      <th></th>\n",
       "      <th>gender</th>\n",
       "      <th>race/ethnicity</th>\n",
       "      <th>parental level of education</th>\n",
       "      <th>lunch</th>\n",
       "      <th>test preparation course</th>\n",
       "      <th>math score</th>\n",
       "      <th>reading score</th>\n",
       "      <th>writing score</th>\n",
       "      <th>Math_PassStatus</th>\n",
       "      <th>Reading_PassStatus</th>\n",
       "      <th>Writing_PassStatus</th>\n",
       "    </tr>\n",
       "  </thead>\n",
       "  <tbody>\n",
       "    <tr>\n",
       "      <th>0</th>\n",
       "      <td>female</td>\n",
       "      <td>group B</td>\n",
       "      <td>bachelor's degree</td>\n",
       "      <td>standard</td>\n",
       "      <td>none</td>\n",
       "      <td>72</td>\n",
       "      <td>72</td>\n",
       "      <td>74</td>\n",
       "      <td>P</td>\n",
       "      <td>P</td>\n",
       "      <td>P</td>\n",
       "    </tr>\n",
       "    <tr>\n",
       "      <th>1</th>\n",
       "      <td>female</td>\n",
       "      <td>group C</td>\n",
       "      <td>some college</td>\n",
       "      <td>standard</td>\n",
       "      <td>completed</td>\n",
       "      <td>69</td>\n",
       "      <td>90</td>\n",
       "      <td>88</td>\n",
       "      <td>P</td>\n",
       "      <td>P</td>\n",
       "      <td>P</td>\n",
       "    </tr>\n",
       "  </tbody>\n",
       "</table>\n",
       "</div>"
      ],
      "text/plain": [
       "   gender race/ethnicity parental level of education     lunch  \\\n",
       "0  female        group B           bachelor's degree  standard   \n",
       "1  female        group C                some college  standard   \n",
       "\n",
       "  test preparation course  math score  reading score  writing score  \\\n",
       "0                    none          72             72             74   \n",
       "1               completed          69             90             88   \n",
       "\n",
       "  Math_PassStatus Reading_PassStatus Writing_PassStatus  \n",
       "0               P                  P                  P  \n",
       "1               P                  P                  P  "
      ]
     },
     "execution_count": 36,
     "metadata": {},
     "output_type": "execute_result"
    }
   ],
   "source": [
    "df.head(2)"
   ]
  },
  {
   "cell_type": "code",
   "execution_count": 37,
   "id": "671a8b93-d45f-4d7c-a1ec-d724b9f6065e",
   "metadata": {
    "tags": []
   },
   "outputs": [
    {
     "data": {
      "text/plain": [
       "P    834\n",
       "F    166\n",
       "Name: Overall_PassStatus, dtype: int64"
      ]
     },
     "execution_count": 37,
     "metadata": {},
     "output_type": "execute_result"
    }
   ],
   "source": [
    "df[\"Overall_PassStatus\"] = df.apply(lambda x: \"F\" if x[\"Math_PassStatus\"] == \"F\" or x[\"Reading_PassStatus\"] == \"F\" or\n",
    "                                     x[\"Reading_PassStatus\"] == \"F\" else \"P\",axis=1)\n",
    "df.Overall_PassStatus.value_counts()  #3 derstende başarılı olanların toplam sayısı P\n",
    "# herhangi bir dersten F alanların overallscore'u F"
   ]
  },
  {
   "cell_type": "code",
   "execution_count": 38,
   "id": "0f969ed0-6039-4ecb-bca0-2c31e2cc30f5",
   "metadata": {
    "tags": []
   },
   "outputs": [
    {
     "data": {
      "image/png": "[encoded data removed]",
      "text/plain": [
       "<Figure size 1000x600 with 1 Axes>"
      ]
     },
     "metadata": {},
     "output_type": "display_data"
    }
   ],
   "source": [
    "plt.figure(figsize=(10, 6))\n",
    "p = sns.countplot(x=\"parental level of education\",data = df,hue=\"Overall_PassStatus\", palette=\"bright\")\n",
    "plt.xticks(rotation=0,fontsize=9)\n",
    "plt.show()"
   ]
  },
  {
   "cell_type": "code",
   "execution_count": 39,
   "id": "4846c1a1-dcd4-41f2-9040-f0ef79895fbc",
   "metadata": {
    "tags": []
   },
   "outputs": [
    {
     "data": {
      "text/html": [
       "<div>\n",
       "<style scoped>\n",
       "    .dataframe tbody tr th:only-of-type {\n",
       "        vertical-align: middle;\n",
       "    }\n",
       "\n",
       "    .dataframe tbody tr th {\n",
       "        vertical-align: top;\n",
       "    }\n",
       "\n",
       "    .dataframe thead th {\n",
       "        text-align: right;\n",
       "    }\n",
       "</style>\n",
       "<table border=\"1\" class=\"dataframe\">\n",
       "  <thead>\n",
       "    <tr style=\"text-align: right;\">\n",
       "      <th></th>\n",
       "      <th>gender</th>\n",
       "      <th>race/ethnicity</th>\n",
       "      <th>parental level of education</th>\n",
       "      <th>lunch</th>\n",
       "      <th>test preparation course</th>\n",
       "      <th>math score</th>\n",
       "      <th>reading score</th>\n",
       "      <th>writing score</th>\n",
       "      <th>Math_PassStatus</th>\n",
       "      <th>Reading_PassStatus</th>\n",
       "      <th>Writing_PassStatus</th>\n",
       "      <th>Overall_PassStatus</th>\n",
       "    </tr>\n",
       "  </thead>\n",
       "  <tbody>\n",
       "    <tr>\n",
       "      <th>0</th>\n",
       "      <td>female</td>\n",
       "      <td>group B</td>\n",
       "      <td>bachelor's degree</td>\n",
       "      <td>standard</td>\n",
       "      <td>none</td>\n",
       "      <td>72</td>\n",
       "      <td>72</td>\n",
       "      <td>74</td>\n",
       "      <td>P</td>\n",
       "      <td>P</td>\n",
       "      <td>P</td>\n",
       "      <td>P</td>\n",
       "    </tr>\n",
       "    <tr>\n",
       "      <th>1</th>\n",
       "      <td>female</td>\n",
       "      <td>group C</td>\n",
       "      <td>some college</td>\n",
       "      <td>standard</td>\n",
       "      <td>completed</td>\n",
       "      <td>69</td>\n",
       "      <td>90</td>\n",
       "      <td>88</td>\n",
       "      <td>P</td>\n",
       "      <td>P</td>\n",
       "      <td>P</td>\n",
       "      <td>P</td>\n",
       "    </tr>\n",
       "  </tbody>\n",
       "</table>\n",
       "</div>"
      ],
      "text/plain": [
       "   gender race/ethnicity parental level of education     lunch  \\\n",
       "0  female        group B           bachelor's degree  standard   \n",
       "1  female        group C                some college  standard   \n",
       "\n",
       "  test preparation course  math score  reading score  writing score  \\\n",
       "0                    none          72             72             74   \n",
       "1               completed          69             90             88   \n",
       "\n",
       "  Math_PassStatus Reading_PassStatus Writing_PassStatus Overall_PassStatus  \n",
       "0               P                  P                  P                  P  \n",
       "1               P                  P                  P                  P  "
      ]
     },
     "execution_count": 39,
     "metadata": {},
     "output_type": "execute_result"
    }
   ],
   "source": [
    "df.head(2)"
   ]
  },
  {
   "cell_type": "code",
   "execution_count": 62,
   "id": "cbe801d7-800f-4382-a90b-53f37f20ef7a",
   "metadata": {},
   "outputs": [
    {
     "data": {
      "text/html": [
       "<div>\n",
       "<style scoped>\n",
       "    .dataframe tbody tr th:only-of-type {\n",
       "        vertical-align: middle;\n",
       "    }\n",
       "\n",
       "    .dataframe tbody tr th {\n",
       "        vertical-align: top;\n",
       "    }\n",
       "\n",
       "    .dataframe thead th {\n",
       "        text-align: right;\n",
       "    }\n",
       "</style>\n",
       "<table border=\"1\" class=\"dataframe\">\n",
       "  <thead>\n",
       "    <tr style=\"text-align: right;\">\n",
       "      <th></th>\n",
       "      <th>gender</th>\n",
       "      <th>race/ethnicity</th>\n",
       "      <th>parental level of education</th>\n",
       "      <th>lunch</th>\n",
       "      <th>test preparation course</th>\n",
       "      <th>math score</th>\n",
       "      <th>reading score</th>\n",
       "      <th>writing score</th>\n",
       "      <th>Math_PassStatus</th>\n",
       "      <th>Reading_PassStatus</th>\n",
       "      <th>Writing_PassStatus</th>\n",
       "      <th>Overall_PassStatus</th>\n",
       "      <th>Total_Marks</th>\n",
       "    </tr>\n",
       "  </thead>\n",
       "  <tbody>\n",
       "    <tr>\n",
       "      <th>0</th>\n",
       "      <td>female</td>\n",
       "      <td>group B</td>\n",
       "      <td>bachelor's degree</td>\n",
       "      <td>standard</td>\n",
       "      <td>none</td>\n",
       "      <td>72</td>\n",
       "      <td>72</td>\n",
       "      <td>74</td>\n",
       "      <td>P</td>\n",
       "      <td>P</td>\n",
       "      <td>P</td>\n",
       "      <td>P</td>\n",
       "      <td>72.666667</td>\n",
       "    </tr>\n",
       "    <tr>\n",
       "      <th>1</th>\n",
       "      <td>female</td>\n",
       "      <td>group C</td>\n",
       "      <td>some college</td>\n",
       "      <td>standard</td>\n",
       "      <td>completed</td>\n",
       "      <td>69</td>\n",
       "      <td>90</td>\n",
       "      <td>88</td>\n",
       "      <td>P</td>\n",
       "      <td>P</td>\n",
       "      <td>P</td>\n",
       "      <td>P</td>\n",
       "      <td>82.333333</td>\n",
       "    </tr>\n",
       "    <tr>\n",
       "      <th>2</th>\n",
       "      <td>female</td>\n",
       "      <td>group B</td>\n",
       "      <td>master's degree</td>\n",
       "      <td>standard</td>\n",
       "      <td>none</td>\n",
       "      <td>90</td>\n",
       "      <td>95</td>\n",
       "      <td>93</td>\n",
       "      <td>P</td>\n",
       "      <td>P</td>\n",
       "      <td>P</td>\n",
       "      <td>P</td>\n",
       "      <td>92.666667</td>\n",
       "    </tr>\n",
       "    <tr>\n",
       "      <th>3</th>\n",
       "      <td>male</td>\n",
       "      <td>group A</td>\n",
       "      <td>associate's degree</td>\n",
       "      <td>free/reduced</td>\n",
       "      <td>none</td>\n",
       "      <td>47</td>\n",
       "      <td>57</td>\n",
       "      <td>44</td>\n",
       "      <td>F</td>\n",
       "      <td>P</td>\n",
       "      <td>F</td>\n",
       "      <td>F</td>\n",
       "      <td>49.333333</td>\n",
       "    </tr>\n",
       "    <tr>\n",
       "      <th>4</th>\n",
       "      <td>male</td>\n",
       "      <td>group C</td>\n",
       "      <td>some college</td>\n",
       "      <td>standard</td>\n",
       "      <td>none</td>\n",
       "      <td>76</td>\n",
       "      <td>78</td>\n",
       "      <td>75</td>\n",
       "      <td>P</td>\n",
       "      <td>P</td>\n",
       "      <td>P</td>\n",
       "      <td>P</td>\n",
       "      <td>76.333333</td>\n",
       "    </tr>\n",
       "  </tbody>\n",
       "</table>\n",
       "</div>"
      ],
      "text/plain": [
       "   gender race/ethnicity parental level of education         lunch  \\\n",
       "0  female        group B           bachelor's degree      standard   \n",
       "1  female        group C                some college      standard   \n",
       "2  female        group B             master's degree      standard   \n",
       "3    male        group A          associate's degree  free/reduced   \n",
       "4    male        group C                some college      standard   \n",
       "\n",
       "  test preparation course  math score  reading score  writing score  \\\n",
       "0                    none          72             72             74   \n",
       "1               completed          69             90             88   \n",
       "2                    none          90             95             93   \n",
       "3                    none          47             57             44   \n",
       "4                    none          76             78             75   \n",
       "\n",
       "  Math_PassStatus Reading_PassStatus Writing_PassStatus Overall_PassStatus  \\\n",
       "0               P                  P                  P                  P   \n",
       "1               P                  P                  P                  P   \n",
       "2               P                  P                  P                  P   \n",
       "3               F                  P                  F                  F   \n",
       "4               P                  P                  P                  P   \n",
       "\n",
       "   Total_Marks  \n",
       "0    72.666667  \n",
       "1    82.333333  \n",
       "2    92.666667  \n",
       "3    49.333333  \n",
       "4    76.333333  "
      ]
     },
     "execution_count": 62,
     "metadata": {},
     "output_type": "execute_result"
    }
   ],
   "source": [
    "df[\"Total_Marks\"] = (df[\"math score\"] + df[\"reading score\"] + df[\"writing score\"]) / (3)\n",
    "df.head()"
   ]
  },
  {
   "cell_type": "code",
   "execution_count": 63,
   "id": "2c16bc92-cf51-4dba-9666-2c46f8f15fe7",
   "metadata": {
    "tags": []
   },
   "outputs": [
    {
     "data": {
      "text/html": [
       "<div>\n",
       "<style scoped>\n",
       "    .dataframe tbody tr th:only-of-type {\n",
       "        vertical-align: middle;\n",
       "    }\n",
       "\n",
       "    .dataframe tbody tr th {\n",
       "        vertical-align: top;\n",
       "    }\n",
       "\n",
       "    .dataframe thead th {\n",
       "        text-align: right;\n",
       "    }\n",
       "</style>\n",
       "<table border=\"1\" class=\"dataframe\">\n",
       "  <thead>\n",
       "    <tr style=\"text-align: right;\">\n",
       "      <th></th>\n",
       "      <th>gender</th>\n",
       "      <th>race/ethnicity</th>\n",
       "      <th>parental level of education</th>\n",
       "      <th>lunch</th>\n",
       "      <th>test preparation course</th>\n",
       "      <th>math score</th>\n",
       "      <th>reading score</th>\n",
       "      <th>writing score</th>\n",
       "      <th>Math_PassStatus</th>\n",
       "      <th>Reading_PassStatus</th>\n",
       "      <th>Writing_PassStatus</th>\n",
       "      <th>Overall_PassStatus</th>\n",
       "      <th>Total_Marks</th>\n",
       "    </tr>\n",
       "  </thead>\n",
       "  <tbody>\n",
       "    <tr>\n",
       "      <th>0</th>\n",
       "      <td>female</td>\n",
       "      <td>group B</td>\n",
       "      <td>bachelor's degree</td>\n",
       "      <td>standard</td>\n",
       "      <td>none</td>\n",
       "      <td>72</td>\n",
       "      <td>72</td>\n",
       "      <td>74</td>\n",
       "      <td>P</td>\n",
       "      <td>P</td>\n",
       "      <td>P</td>\n",
       "      <td>P</td>\n",
       "      <td>72.67</td>\n",
       "    </tr>\n",
       "    <tr>\n",
       "      <th>1</th>\n",
       "      <td>female</td>\n",
       "      <td>group C</td>\n",
       "      <td>some college</td>\n",
       "      <td>standard</td>\n",
       "      <td>completed</td>\n",
       "      <td>69</td>\n",
       "      <td>90</td>\n",
       "      <td>88</td>\n",
       "      <td>P</td>\n",
       "      <td>P</td>\n",
       "      <td>P</td>\n",
       "      <td>P</td>\n",
       "      <td>82.33</td>\n",
       "    </tr>\n",
       "  </tbody>\n",
       "</table>\n",
       "</div>"
      ],
      "text/plain": [
       "   gender race/ethnicity parental level of education     lunch  \\\n",
       "0  female        group B           bachelor's degree  standard   \n",
       "1  female        group C                some college  standard   \n",
       "\n",
       "  test preparation course  math score  reading score  writing score  \\\n",
       "0                    none          72             72             74   \n",
       "1               completed          69             90             88   \n",
       "\n",
       "  Math_PassStatus Reading_PassStatus Writing_PassStatus Overall_PassStatus  \\\n",
       "0               P                  P                  P                  P   \n",
       "1               P                  P                  P                  P   \n",
       "\n",
       "   Total_Marks  \n",
       "0        72.67  \n",
       "1        82.33  "
      ]
     },
     "execution_count": 63,
     "metadata": {},
     "output_type": "execute_result"
    }
   ],
   "source": [
    "df['Total_Marks'] = df['Total_Marks'].round(2)  # virgülden sonra 2 basamak görünüyor\n",
    "df.head(2)"
   ]
  },
  {
   "cell_type": "code",
   "execution_count": 61,
   "id": "254bbcbb-027e-4388-9936-1f9bf0faa81f",
   "metadata": {
    "tags": []
   },
   "outputs": [
    {
     "data": {
      "text/html": [
       "<div>\n",
       "<style scoped>\n",
       "    .dataframe tbody tr th:only-of-type {\n",
       "        vertical-align: middle;\n",
       "    }\n",
       "\n",
       "    .dataframe tbody tr th {\n",
       "        vertical-align: top;\n",
       "    }\n",
       "\n",
       "    .dataframe thead th {\n",
       "        text-align: right;\n",
       "    }\n",
       "</style>\n",
       "<table border=\"1\" class=\"dataframe\">\n",
       "  <thead>\n",
       "    <tr style=\"text-align: right;\">\n",
       "      <th></th>\n",
       "      <th>gender</th>\n",
       "      <th>race/ethnicity</th>\n",
       "      <th>parental level of education</th>\n",
       "      <th>lunch</th>\n",
       "      <th>test preparation course</th>\n",
       "      <th>math score</th>\n",
       "      <th>reading score</th>\n",
       "      <th>writing score</th>\n",
       "      <th>Math_PassStatus</th>\n",
       "      <th>Reading_PassStatus</th>\n",
       "      <th>Writing_PassStatus</th>\n",
       "      <th>Overall_PassStatus</th>\n",
       "      <th>Total_Marks</th>\n",
       "    </tr>\n",
       "  </thead>\n",
       "  <tbody>\n",
       "    <tr>\n",
       "      <th>0</th>\n",
       "      <td>female</td>\n",
       "      <td>group B</td>\n",
       "      <td>bachelor's degree</td>\n",
       "      <td>standard</td>\n",
       "      <td>none</td>\n",
       "      <td>72</td>\n",
       "      <td>72</td>\n",
       "      <td>74</td>\n",
       "      <td>P</td>\n",
       "      <td>P</td>\n",
       "      <td>P</td>\n",
       "      <td>P</td>\n",
       "      <td>73</td>\n",
       "    </tr>\n",
       "    <tr>\n",
       "      <th>1</th>\n",
       "      <td>female</td>\n",
       "      <td>group C</td>\n",
       "      <td>some college</td>\n",
       "      <td>standard</td>\n",
       "      <td>completed</td>\n",
       "      <td>69</td>\n",
       "      <td>90</td>\n",
       "      <td>88</td>\n",
       "      <td>P</td>\n",
       "      <td>P</td>\n",
       "      <td>P</td>\n",
       "      <td>P</td>\n",
       "      <td>82</td>\n",
       "    </tr>\n",
       "  </tbody>\n",
       "</table>\n",
       "</div>"
      ],
      "text/plain": [
       "   gender race/ethnicity parental level of education     lunch  \\\n",
       "0  female        group B           bachelor's degree  standard   \n",
       "1  female        group C                some college  standard   \n",
       "\n",
       "  test preparation course  math score  reading score  writing score  \\\n",
       "0                    none          72             72             74   \n",
       "1               completed          69             90             88   \n",
       "\n",
       "  Math_PassStatus Reading_PassStatus Writing_PassStatus Overall_PassStatus  \\\n",
       "0               P                  P                  P                  P   \n",
       "1               P                  P                  P                  P   \n",
       "\n",
       "   Total_Marks  \n",
       "0           73  \n",
       "1           82  "
      ]
     },
     "execution_count": 61,
     "metadata": {},
     "output_type": "execute_result"
    }
   ],
   "source": [
    "df['Total_Marks'] = df['Total_Marks'].round(0).astype(int)  # burada tamsayı olarak görünüyor float türünü int'ye çevirdik\n",
    "df.head(2)"
   ]
  },
  {
   "cell_type": "code",
   "execution_count": 64,
   "id": "76bf50e4-26c3-4939-866f-3be879fc012a",
   "metadata": {
    "collapsed": true,
    "jupyter": {
     "outputs_hidden": true
    },
    "tags": []
   },
   "outputs": [
    {
     "data": {
      "text/plain": [
       "gender                          object\n",
       "race/ethnicity                  object\n",
       "parental level of education     object\n",
       "lunch                           object\n",
       "test preparation course         object\n",
       "math score                       int64\n",
       "reading score                    int64\n",
       "writing score                    int64\n",
       "Math_PassStatus                 object\n",
       "Reading_PassStatus              object\n",
       "Writing_PassStatus              object\n",
       "Overall_PassStatus              object\n",
       "Total_Marks                    float64\n",
       "dtype: object"
      ]
     },
     "execution_count": 64,
     "metadata": {},
     "output_type": "execute_result"
    }
   ],
   "source": [
    "df.dtypes"
   ]
  },
  {
   "cell_type": "code",
   "execution_count": 66,
   "id": "ae369155-693c-4a48-a82b-d94c4036a97b",
   "metadata": {
    "tags": []
   },
   "outputs": [
    {
     "data": {
      "image/png": "[encoded data removed]",
      "text/plain": [
       "<Figure size 1000x600 with 1 Axes>"
      ]
     },
     "metadata": {},
     "output_type": "display_data"
    }
   ],
   "source": [
    "plt.figure(figsize=(10, 6))\n",
    "p = sns.countplot(x=\"Total_Marks\",data = df, palette=\"muted\")\n",
    "plt.xticks(rotation=90,fontsize=5)\n",
    "plt.show()"
   ]
  },
  {
   "cell_type": "code",
   "execution_count": 70,
   "id": "3cb8a472-d377-49e9-a9e4-6943d79052f6",
   "metadata": {
    "tags": []
   },
   "outputs": [
    {
     "data": {
      "text/plain": [
       "67.77"
      ]
     },
     "execution_count": 70,
     "metadata": {},
     "output_type": "execute_result"
    }
   ],
   "source": [
    "df[\"Total_Marks\"].mean().round(2)  #notların ortalaması"
   ]
  },
  {
   "cell_type": "code",
   "execution_count": 112,
   "id": "f68097dd-99e0-4dde-9270-4e43aed3db42",
   "metadata": {
    "tags": []
   },
   "outputs": [
    {
     "data": {
      "text/plain": [
       "B    261\n",
       "C    255\n",
       "A    198\n",
       "F    166\n",
       "D    116\n",
       "E      4\n",
       "Name: Grade, dtype: int64"
      ]
     },
     "execution_count": 112,
     "metadata": {},
     "output_type": "execute_result"
    }
   ],
   "source": [
    "def GetGrade(Total_Marks,Overall_PassStatus):\n",
    "    if(Overall_PassStatus == \"F\"):\n",
    "        return \"F\"\n",
    "    if(Total_Marks >= 80):\n",
    "        return \"A\"\n",
    "    if(Total_Marks >= 70):\n",
    "        return \"B\"\n",
    "    if(Total_Marks >= 60):\n",
    "        return \"C\"\n",
    "    if(Total_Marks >= 50):\n",
    "        return \"D\"\n",
    "    if(Total_Marks >= 40):\n",
    "        return \"E\"\n",
    "    else:\n",
    "        return \"F\"\n",
    "df[\"Grade\"] = df.apply(lambda x: GetGrade(x[\"Total_Marks\"],x[\"Overall_PassStatus\"]),axis=1)\n",
    "df.Grade.value_counts()\n",
    "\n",
    "#Grade sütununu oluşturup Harf notları verdik"
   ]
  },
  {
   "cell_type": "code",
   "execution_count": 113,
   "id": "2b28f8d9-c648-4d3c-907b-f3502b87552c",
   "metadata": {
    "tags": []
   },
   "outputs": [
    {
     "data": {
      "text/html": [
       "<div>\n",
       "<style scoped>\n",
       "    .dataframe tbody tr th:only-of-type {\n",
       "        vertical-align: middle;\n",
       "    }\n",
       "\n",
       "    .dataframe tbody tr th {\n",
       "        vertical-align: top;\n",
       "    }\n",
       "\n",
       "    .dataframe thead th {\n",
       "        text-align: right;\n",
       "    }\n",
       "</style>\n",
       "<table border=\"1\" class=\"dataframe\">\n",
       "  <thead>\n",
       "    <tr style=\"text-align: right;\">\n",
       "      <th></th>\n",
       "      <th>gender</th>\n",
       "      <th>race/ethnicity</th>\n",
       "      <th>parental level of education</th>\n",
       "      <th>lunch</th>\n",
       "      <th>test preparation course</th>\n",
       "      <th>math score</th>\n",
       "      <th>reading score</th>\n",
       "      <th>writing score</th>\n",
       "      <th>Math_PassStatus</th>\n",
       "      <th>Reading_PassStatus</th>\n",
       "      <th>Writing_PassStatus</th>\n",
       "      <th>Overall_PassStatus</th>\n",
       "      <th>Total_Marks</th>\n",
       "      <th>Grade</th>\n",
       "    </tr>\n",
       "  </thead>\n",
       "  <tbody>\n",
       "    <tr>\n",
       "      <th>136</th>\n",
       "      <td>male</td>\n",
       "      <td>group B</td>\n",
       "      <td>some high school</td>\n",
       "      <td>standard</td>\n",
       "      <td>completed</td>\n",
       "      <td>51</td>\n",
       "      <td>54</td>\n",
       "      <td>41</td>\n",
       "      <td>P</td>\n",
       "      <td>P</td>\n",
       "      <td>F</td>\n",
       "      <td>P</td>\n",
       "      <td>48.67</td>\n",
       "      <td>E</td>\n",
       "    </tr>\n",
       "    <tr>\n",
       "      <th>182</th>\n",
       "      <td>female</td>\n",
       "      <td>group E</td>\n",
       "      <td>high school</td>\n",
       "      <td>standard</td>\n",
       "      <td>none</td>\n",
       "      <td>50</td>\n",
       "      <td>50</td>\n",
       "      <td>47</td>\n",
       "      <td>P</td>\n",
       "      <td>P</td>\n",
       "      <td>F</td>\n",
       "      <td>P</td>\n",
       "      <td>49.00</td>\n",
       "      <td>E</td>\n",
       "    </tr>\n",
       "    <tr>\n",
       "      <th>280</th>\n",
       "      <td>male</td>\n",
       "      <td>group D</td>\n",
       "      <td>high school</td>\n",
       "      <td>standard</td>\n",
       "      <td>none</td>\n",
       "      <td>53</td>\n",
       "      <td>52</td>\n",
       "      <td>42</td>\n",
       "      <td>P</td>\n",
       "      <td>P</td>\n",
       "      <td>F</td>\n",
       "      <td>P</td>\n",
       "      <td>49.00</td>\n",
       "      <td>E</td>\n",
       "    </tr>\n",
       "    <tr>\n",
       "      <th>307</th>\n",
       "      <td>male</td>\n",
       "      <td>group C</td>\n",
       "      <td>some high school</td>\n",
       "      <td>standard</td>\n",
       "      <td>none</td>\n",
       "      <td>51</td>\n",
       "      <td>52</td>\n",
       "      <td>44</td>\n",
       "      <td>P</td>\n",
       "      <td>P</td>\n",
       "      <td>F</td>\n",
       "      <td>P</td>\n",
       "      <td>49.00</td>\n",
       "      <td>E</td>\n",
       "    </tr>\n",
       "  </tbody>\n",
       "</table>\n",
       "</div>"
      ],
      "text/plain": [
       "     gender race/ethnicity parental level of education     lunch  \\\n",
       "136    male        group B            some high school  standard   \n",
       "182  female        group E                 high school  standard   \n",
       "280    male        group D                 high school  standard   \n",
       "307    male        group C            some high school  standard   \n",
       "\n",
       "    test preparation course  math score  reading score  writing score  \\\n",
       "136               completed          51             54             41   \n",
       "182                    none          50             50             47   \n",
       "280                    none          53             52             42   \n",
       "307                    none          51             52             44   \n",
       "\n",
       "    Math_PassStatus Reading_PassStatus Writing_PassStatus Overall_PassStatus  \\\n",
       "136               P                  P                  F                  P   \n",
       "182               P                  P                  F                  P   \n",
       "280               P                  P                  F                  P   \n",
       "307               P                  P                  F                  P   \n",
       "\n",
       "     Total_Marks Grade  \n",
       "136        48.67     E  \n",
       "182        49.00     E  \n",
       "280        49.00     E  \n",
       "307        49.00     E  "
      ]
     },
     "execution_count": 113,
     "metadata": {},
     "output_type": "execute_result"
    }
   ],
   "source": [
    "df[df[\"Grade\"] == \"E\"] #Grade E olanlar"
   ]
  },
  {
   "cell_type": "code",
   "execution_count": 122,
   "id": "9697db04-6c37-45de-8d8c-1b05ca975a51",
   "metadata": {
    "tags": []
   },
   "outputs": [
    {
     "data": {
      "text/plain": [
       "136    some high school\n",
       "182         high school\n",
       "280         high school\n",
       "307    some high school\n",
       "Name: parental level of education, dtype: object"
      ]
     },
     "execution_count": 122,
     "metadata": {},
     "output_type": "execute_result"
    }
   ],
   "source": [
    "df[df[\"Grade\"] == \"E\"][\"parental level of education\"] #Grade E olanların aile eğitim durumları"
   ]
  },
  {
   "cell_type": "code",
   "execution_count": 120,
   "id": "21da8d41-d7c8-420d-a191-41011f75f906",
   "metadata": {
    "tags": []
   },
   "outputs": [
    {
     "data": {
      "text/plain": [
       "20"
      ]
     },
     "execution_count": 120,
     "metadata": {},
     "output_type": "execute_result"
    }
   ],
   "source": [
    "df[(df[\"Grade\"] == \"A\") & (df[\"parental level of education\"] == \"master's degree\")].count().iloc[0] \n",
    "#Grade A olan öğrencilerden kaç tanesinin aile eğitim durumu masters degree \n",
    "#Toplam 198 öğrenci A, 20 tanesi masters degree"
   ]
  },
  {
   "cell_type": "code",
   "execution_count": 130,
   "id": "0958356f-adcd-4955-ae32-37a0821c5754",
   "metadata": {
    "tags": []
   },
   "outputs": [
    {
     "data": {
      "image/png": "[encoded data removed]",
      "text/plain": [
       "<Figure size 640x480 with 1 Axes>"
      ]
     },
     "metadata": {},
     "output_type": "display_data"
    }
   ],
   "source": [
    "sns.countplot(x=\"Grade\",data=df,order=[\"A\",\"B\",\"C\",\"D\",\"E\",\"F\"], palette=\"bright\")\n",
    "plt.xlabel(\"Grade\")\n",
    "plt.ylabel(\"Öğrenci Sayısı\")\n",
    "plt.title(\"Öğrenci sayılarına göre harf notları\")\n",
    "plt.show()"
   ]
  },
  {
   "cell_type": "code",
   "execution_count": 254,
   "id": "63d278a9-f616-4cb2-92c2-ec8229f17876",
   "metadata": {
    "tags": []
   },
   "outputs": [
    {
     "data": {
      "image/png": "[encoded data removed]",
      "text/plain": [
       "<Figure size 1000x600 with 1 Axes>"
      ]
     },
     "metadata": {},
     "output_type": "display_data"
    }
   ],
   "source": [
    "plt.figure(figsize=(10, 6))\n",
    "p = sns.countplot(x=\"parental level of education\",data = df, palette=\"bright\")\n",
    "plt.xticks(rotation=0,fontsize=9)\n",
    "plt.title(\"Ebeveynlerin eğitim seviyeleri\")\n",
    "plt.show()"
   ]
  },
  {
   "cell_type": "code",
   "execution_count": 177,
   "id": "a9d0292a-d92d-4e03-91af-2eef2d5b8193",
   "metadata": {
    "collapsed": true,
    "jupyter": {
     "outputs_hidden": true
    },
    "tags": []
   },
   "outputs": [
    {
     "data": {
      "text/plain": [
       "B    261\n",
       "C    255\n",
       "A    198\n",
       "F    166\n",
       "D    116\n",
       "E      4\n",
       "Name: Grade, dtype: int64"
      ]
     },
     "execution_count": 177,
     "metadata": {},
     "output_type": "execute_result"
    }
   ],
   "source": [
    "df[\"Grade\"].value_counts() # üstteki grafiğin verileri"
   ]
  },
  {
   "cell_type": "code",
   "execution_count": 152,
   "id": "ce8bd97e-45ab-467a-ba6b-5994747606a3",
   "metadata": {
    "tags": []
   },
   "outputs": [
    {
     "data": {
      "text/plain": [
       "some college          226\n",
       "associate's degree    222\n",
       "high school           196\n",
       "some high school      179\n",
       "bachelor's degree     118\n",
       "master's degree        59\n",
       "Name: parental level of education, dtype: int64"
      ]
     },
     "execution_count": 152,
     "metadata": {},
     "output_type": "execute_result"
    }
   ],
   "source": [
    "df[\"parental level of education\"].value_counts() # bu veriyi görselleştirdik üstte"
   ]
  },
  {
   "cell_type": "code",
   "execution_count": 164,
   "id": "15e9cb13-5f38-4f41-975f-2e76e4856b09",
   "metadata": {
    "tags": []
   },
   "outputs": [
    {
     "data": {
      "image/png": "[encoded data removed]",
      "text/plain": [
       "<Figure size 1000x600 with 1 Axes>"
      ]
     },
     "metadata": {},
     "output_type": "display_data"
    }
   ],
   "source": [
    "plt.figure(figsize=(10, 6))\n",
    "p = sns.countplot(x=\"parental level of education\",data = df,hue=\"Grade\", palette=\"bright\")\n",
    "plt.xticks(rotation=0,fontsize=9)\n",
    "plt.title(\"Ebeveyn eğitim seviyelerine göre Harf dağılımları\")\n",
    "plt.show()"
   ]
  },
  {
   "cell_type": "code",
   "execution_count": 212,
   "id": "b79fe18e-8bed-4a87-93c6-f56e27381f02",
   "metadata": {
    "collapsed": true,
    "jupyter": {
     "outputs_hidden": true
    },
    "tags": []
   },
   "outputs": [
    {
     "data": {
      "text/plain": [
       "196"
      ]
     },
     "execution_count": 212,
     "metadata": {},
     "output_type": "execute_result"
    }
   ],
   "source": [
    "df[(df[\"parental level of education\"] == \"high school\")].count().iloc[0] \n",
    "#high school toplam bulma"
   ]
  },
  {
   "cell_type": "code",
   "execution_count": 167,
   "id": "676c1f64-8bdf-4107-a023-390d8ac6c8cc",
   "metadata": {
    "tags": []
   },
   "outputs": [
    {
     "data": {
      "image/png": "[encoded data removed]",
      "text/plain": [
       "<Figure size 800x600 with 1 Axes>"
      ]
     },
     "metadata": {},
     "output_type": "display_data"
    }
   ],
   "source": [
    "plt.figure(figsize=(8, 6))\n",
    "p = sns.countplot(x=\"gender\",data = df,hue=\"Grade\", palette=\"bright\")\n",
    "plt.xticks(rotation=0,fontsize=9)\n",
    "plt.title(\"Ebeveyn eğitim seviyelerine göre Harf dağılımları\")\n",
    "plt.show()"
   ]
  },
  {
   "cell_type": "code",
   "execution_count": 186,
   "id": "3519dcf5-e760-4465-a075-97b59371732d",
   "metadata": {
    "tags": []
   },
   "outputs": [
    {
     "data": {
      "text/plain": [
       "female    518\n",
       "male      482\n",
       "Name: gender, dtype: int64"
      ]
     },
     "execution_count": 186,
     "metadata": {},
     "output_type": "execute_result"
    }
   ],
   "source": [
    "df[\"gender\"].value_counts()"
   ]
  },
  {
   "cell_type": "code",
   "execution_count": 205,
   "id": "4b5ed06f-4ce3-4dd7-bbf5-057a76b01511",
   "metadata": {
    "tags": []
   },
   "outputs": [
    {
     "data": {
      "text/plain": [
       "36"
      ]
     },
     "execution_count": 205,
     "metadata": {},
     "output_type": "execute_result"
    }
   ],
   "source": [
    "df[(df[\"gender\"] == \"female\") & (df[\"Grade\"] == \"D\")].count().iloc[0] \n",
    "#Cinsiyeti kadın olan ve harf notu D olanların sayısını bulma"
   ]
  },
  {
   "cell_type": "code",
   "execution_count": 228,
   "id": "d60a28c7-4c01-4159-bfe8-84c8e335b0e4",
   "metadata": {
    "tags": []
   },
   "outputs": [],
   "source": [
    "#Kız Erkek yüzdesi bulma\n",
    "df_gender = df[\"gender\"]\n",
    "female_count = df_gender.value_counts()[\"female\"]\n",
    "male_count = df_gender.value_counts()[\"male\"]\n",
    "female_ratio = female_count/(female_count + male_count) * 100\n",
    "male_ratio = male_count/(female_count + male_count) * 100"
   ]
  },
  {
   "cell_type": "code",
   "execution_count": 227,
   "id": "fcae77d0-b69d-41b4-917f-27ae94e36516",
   "metadata": {
    "tags": []
   },
   "outputs": [
    {
     "name": "stdout",
     "output_type": "stream",
     "text": [
      "Kız sayısı oranı 51.8\n",
      "Erkek sayısı oranı 48.2\n"
     ]
    }
   ],
   "source": [
    "print(\"Kız sayısı oranı\",female_ratio.round(2))\n",
    "print(\"Erkek sayısı oranı\",male_ratio.round(2))"
   ]
  },
  {
   "cell_type": "code",
   "execution_count": 252,
   "id": "733fc6c9-a967-4b7d-afbf-20d3af45f4fb",
   "metadata": {
    "tags": []
   },
   "outputs": [
    {
     "data": {
      "image/png": "[encoded data removed]",
      "text/plain": [
       "<Figure size 640x480 with 1 Axes>"
      ]
     },
     "metadata": {},
     "output_type": "display_data"
    }
   ],
   "source": [
    "labels = [\"Kız\",\"Erkek\"]\n",
    "sizes = [female_ratio,male_ratio]\n",
    "colors = [\"pink\",\"lightblue\"]\n",
    "plt.pie(sizes,labels=labels,colors=colors,autopct=\"%1.1f%%\",startangle=90)\n",
    "plt.legend()\n",
    "plt.title(\"Kız - Erkek Oranı\")\n",
    "plt.axis(\"equal\")\n",
    "plt.show()"
   ]
  },
  {
   "cell_type": "code",
   "execution_count": 264,
   "id": "3067973b-c4aa-4215-8f78-825617eb2e09",
   "metadata": {
    "tags": []
   },
   "outputs": [
    {
     "name": "stdout",
     "output_type": "stream",
     "text": [
      "Kızların erkeklere oranı: 0.9259\n"
     ]
    }
   ],
   "source": [
    "df_female = df[df[\"gender\"] == \"female\"]\n",
    "df_male = df[df[\"gender\"] == \"male\"]\n",
    "female_math_mean = df_female[\"math score\"].mean()\n",
    "male_math_mean = df_male[\"math score\"].mean()\n",
    "\n",
    "female_to_male_math_ratio = female_math_mean/male_math_mean\n",
    "\n",
    "print(\"Kızların erkeklere oranı:\", female_to_male_math_ratio.round(4))"
   ]
  },
  {
   "cell_type": "code",
   "execution_count": 292,
   "id": "1a44b8de-f0e5-4e7e-94a8-efa44f3962fc",
   "metadata": {
    "tags": []
   },
   "outputs": [
    {
     "data": {
      "image/png": "[encoded data removed]",
      "text/plain": [
       "<Figure size 640x480 with 1 Axes>"
      ]
     },
     "metadata": {},
     "output_type": "display_data"
    }
   ],
   "source": [
    "labels = [\"Kızlar\",\"Erkekler\"]\n",
    "values = [female_math_mean,male_math_mean]\n",
    "colors = [\"pink\",\"lightblue\"]\n",
    "plt.bar(labels,values,color = colors)\n",
    "plt.title(\"Kızların ve Erkeklerin matematik not ortalaması\")\n",
    "plt.xlabel(\"cinsiyet\")\n",
    "plt.ylabel(\"Matematik Notu\")\n",
    "\n",
    "plt.show()"
   ]
  },
  {
   "cell_type": "code",
   "execution_count": 345,
   "id": "c5f0b01d-18f8-49b7-99f1-243bbb5bb544",
   "metadata": {
    "tags": []
   },
   "outputs": [
    {
     "data": {
      "image/png": "[encoded data removed]",
      "text/plain": [
       "<Figure size 640x480 with 1 Axes>"
      ]
     },
     "metadata": {},
     "output_type": "display_data"
    }
   ],
   "source": [
    "labels = [\"Kızlar\",\"Erkekler\"]\n",
    "values = [female_math_mean,male_math_mean]\n",
    "colors = [\"pink\",\"lightblue\"]\n",
    "plt.bar(labels,values,color = colors)\n",
    "\n",
    "plt.axhline(y=male_math_mean,color=\"gray\",linestyle=\"--\")\n",
    "plt.text(1,male_math_mean,\"Ortalama(Erkekler)\",ha=\"center\")\n",
    "plt.axhline(y=female_math_mean,color=\"gray\",linestyle=\"--\")\n",
    "plt.text(-0.25,female_math_mean,\"Ortalama(Kızlar)\",ha=\"left\")\n",
    "plt.text(-0.5,male_math_mean*1.05,\"Oran:{:.2f}\".format(female_to_male_math_ratio),ha=\"center\")\n",
    "\n",
    "\n",
    "\n",
    "plt.title(\"Kızların ve Erkeklerin matematik not ortalaması\")\n",
    "plt.xlabel(\"cinsiyet\")\n",
    "plt.ylabel(\"Matematik Notu\")\n",
    "plt.show()"
   ]
  },
  {
   "cell_type": "code",
   "execution_count": 404,
   "id": "ff39216a-37b6-456c-9a0e-123ba197dd74",
   "metadata": {
    "tags": []
   },
   "outputs": [
    {
     "data": {
      "text/html": [
       "<div>\n",
       "<style scoped>\n",
       "    .dataframe tbody tr th:only-of-type {\n",
       "        vertical-align: middle;\n",
       "    }\n",
       "\n",
       "    .dataframe tbody tr th {\n",
       "        vertical-align: top;\n",
       "    }\n",
       "\n",
       "    .dataframe thead th {\n",
       "        text-align: right;\n",
       "    }\n",
       "</style>\n",
       "<table border=\"1\" class=\"dataframe\">\n",
       "  <thead>\n",
       "    <tr style=\"text-align: right;\">\n",
       "      <th></th>\n",
       "      <th>gender</th>\n",
       "      <th>race/ethnicity</th>\n",
       "      <th>parental level of education</th>\n",
       "      <th>lunch</th>\n",
       "      <th>test preparation course</th>\n",
       "      <th>math score</th>\n",
       "      <th>reading score</th>\n",
       "      <th>writing score</th>\n",
       "      <th>Math_PassStatus</th>\n",
       "      <th>Reading_PassStatus</th>\n",
       "      <th>Writing_PassStatus</th>\n",
       "      <th>Overall_PassStatus</th>\n",
       "      <th>Total_Marks</th>\n",
       "      <th>Grade</th>\n",
       "    </tr>\n",
       "  </thead>\n",
       "  <tbody>\n",
       "  </tbody>\n",
       "</table>\n",
       "</div>"
      ],
      "text/plain": [
       "Empty DataFrame\n",
       "Columns: [gender, race/ethnicity, parental level of education, lunch, test preparation course, math score, reading score, writing score, Math_PassStatus, Reading_PassStatus, Writing_PassStatus, Overall_PassStatus, Total_Marks, Grade]\n",
       "Index: []"
      ]
     },
     "execution_count": 404,
     "metadata": {},
     "output_type": "execute_result"
    }
   ],
   "source": [
    "df[(df[\"Grade\"] == \"F\") & (df[\"math score\"] >= 50) & (df[\"reading score\"] >= 50) & (df[\"writing score\"] >= 50)] \n",
    "\n",
    "# herhangi bir deresten 50 altında alanların overall scoreru F olur"
   ]
  },
  {
   "cell_type": "code",
   "execution_count": 387,
   "id": "e0442b77-9a29-4ce2-bae1-4b651c0f582b",
   "metadata": {
    "tags": []
   },
   "outputs": [
    {
     "data": {
      "text/html": [
       "<div>\n",
       "<style scoped>\n",
       "    .dataframe tbody tr th:only-of-type {\n",
       "        vertical-align: middle;\n",
       "    }\n",
       "\n",
       "    .dataframe tbody tr th {\n",
       "        vertical-align: top;\n",
       "    }\n",
       "\n",
       "    .dataframe thead th {\n",
       "        text-align: right;\n",
       "    }\n",
       "</style>\n",
       "<table border=\"1\" class=\"dataframe\">\n",
       "  <thead>\n",
       "    <tr style=\"text-align: right;\">\n",
       "      <th></th>\n",
       "      <th>gender</th>\n",
       "      <th>race/ethnicity</th>\n",
       "      <th>parental level of education</th>\n",
       "      <th>lunch</th>\n",
       "      <th>test preparation course</th>\n",
       "      <th>math score</th>\n",
       "      <th>reading score</th>\n",
       "      <th>writing score</th>\n",
       "      <th>Math_PassStatus</th>\n",
       "      <th>Reading_PassStatus</th>\n",
       "      <th>Writing_PassStatus</th>\n",
       "      <th>Overall_PassStatus</th>\n",
       "      <th>Total_Marks</th>\n",
       "      <th>Grade</th>\n",
       "    </tr>\n",
       "  </thead>\n",
       "  <tbody>\n",
       "    <tr>\n",
       "      <th>279</th>\n",
       "      <td>male</td>\n",
       "      <td>group B</td>\n",
       "      <td>bachelor's degree</td>\n",
       "      <td>free/reduced</td>\n",
       "      <td>none</td>\n",
       "      <td>73</td>\n",
       "      <td>56</td>\n",
       "      <td>57</td>\n",
       "      <td>P</td>\n",
       "      <td>P</td>\n",
       "      <td>P</td>\n",
       "      <td>P</td>\n",
       "      <td>62.0</td>\n",
       "      <td>C</td>\n",
       "    </tr>\n",
       "    <tr>\n",
       "      <th>350</th>\n",
       "      <td>female</td>\n",
       "      <td>group B</td>\n",
       "      <td>bachelor's degree</td>\n",
       "      <td>standard</td>\n",
       "      <td>none</td>\n",
       "      <td>52</td>\n",
       "      <td>65</td>\n",
       "      <td>69</td>\n",
       "      <td>P</td>\n",
       "      <td>P</td>\n",
       "      <td>P</td>\n",
       "      <td>P</td>\n",
       "      <td>62.0</td>\n",
       "      <td>C</td>\n",
       "    </tr>\n",
       "    <tr>\n",
       "      <th>494</th>\n",
       "      <td>female</td>\n",
       "      <td>group B</td>\n",
       "      <td>high school</td>\n",
       "      <td>standard</td>\n",
       "      <td>none</td>\n",
       "      <td>54</td>\n",
       "      <td>64</td>\n",
       "      <td>68</td>\n",
       "      <td>P</td>\n",
       "      <td>P</td>\n",
       "      <td>P</td>\n",
       "      <td>P</td>\n",
       "      <td>62.0</td>\n",
       "      <td>C</td>\n",
       "    </tr>\n",
       "  </tbody>\n",
       "</table>\n",
       "</div>"
      ],
      "text/plain": [
       "     gender race/ethnicity parental level of education         lunch  \\\n",
       "279    male        group B           bachelor's degree  free/reduced   \n",
       "350  female        group B           bachelor's degree      standard   \n",
       "494  female        group B                 high school      standard   \n",
       "\n",
       "    test preparation course  math score  reading score  writing score  \\\n",
       "279                    none          73             56             57   \n",
       "350                    none          52             65             69   \n",
       "494                    none          54             64             68   \n",
       "\n",
       "    Math_PassStatus Reading_PassStatus Writing_PassStatus Overall_PassStatus  \\\n",
       "279               P                  P                  P                  P   \n",
       "350               P                  P                  P                  P   \n",
       "494               P                  P                  P                  P   \n",
       "\n",
       "     Total_Marks Grade  \n",
       "279         62.0     C  \n",
       "350         62.0     C  \n",
       "494         62.0     C  "
      ]
     },
     "execution_count": 387,
     "metadata": {},
     "output_type": "execute_result"
    }
   ],
   "source": [
    "df[(df[\"Grade\"] == \"C\") & (df[\"Total_Marks\"] == 62)].iloc[0:3] #burada 62 ile C alınmış"
   ]
  },
  {
   "cell_type": "code",
   "execution_count": 402,
   "id": "1cae425a-99a5-4d93-b8a0-3446f6e3ca43",
   "metadata": {
    "tags": []
   },
   "outputs": [
    {
     "data": {
      "text/html": [
       "<div>\n",
       "<style scoped>\n",
       "    .dataframe tbody tr th:only-of-type {\n",
       "        vertical-align: middle;\n",
       "    }\n",
       "\n",
       "    .dataframe tbody tr th {\n",
       "        vertical-align: top;\n",
       "    }\n",
       "\n",
       "    .dataframe thead th {\n",
       "        text-align: right;\n",
       "    }\n",
       "</style>\n",
       "<table border=\"1\" class=\"dataframe\">\n",
       "  <thead>\n",
       "    <tr style=\"text-align: right;\">\n",
       "      <th></th>\n",
       "      <th>gender</th>\n",
       "      <th>race/ethnicity</th>\n",
       "      <th>parental level of education</th>\n",
       "      <th>lunch</th>\n",
       "      <th>test preparation course</th>\n",
       "      <th>math score</th>\n",
       "      <th>reading score</th>\n",
       "      <th>writing score</th>\n",
       "      <th>Math_PassStatus</th>\n",
       "      <th>Reading_PassStatus</th>\n",
       "      <th>Writing_PassStatus</th>\n",
       "      <th>Overall_PassStatus</th>\n",
       "      <th>Total_Marks</th>\n",
       "      <th>Grade</th>\n",
       "    </tr>\n",
       "  </thead>\n",
       "  <tbody>\n",
       "    <tr>\n",
       "      <th>371</th>\n",
       "      <td>female</td>\n",
       "      <td>group C</td>\n",
       "      <td>some college</td>\n",
       "      <td>free/reduced</td>\n",
       "      <td>completed</td>\n",
       "      <td>45</td>\n",
       "      <td>73</td>\n",
       "      <td>70</td>\n",
       "      <td>F</td>\n",
       "      <td>P</td>\n",
       "      <td>P</td>\n",
       "      <td>F</td>\n",
       "      <td>62.67</td>\n",
       "      <td>F</td>\n",
       "    </tr>\n",
       "  </tbody>\n",
       "</table>\n",
       "</div>"
      ],
      "text/plain": [
       "     gender race/ethnicity parental level of education         lunch  \\\n",
       "371  female        group C                some college  free/reduced   \n",
       "\n",
       "    test preparation course  math score  reading score  writing score  \\\n",
       "371               completed          45             73             70   \n",
       "\n",
       "    Math_PassStatus Reading_PassStatus Writing_PassStatus Overall_PassStatus  \\\n",
       "371               F                  P                  P                  F   \n",
       "\n",
       "     Total_Marks Grade  \n",
       "371        62.67     F  "
      ]
     },
     "execution_count": 402,
     "metadata": {},
     "output_type": "execute_result"
    }
   ],
   "source": [
    "df[(df[\"Grade\"] == \"F\") & (df[\"Total_Marks\"] >= 60)]\n",
    "#kodun hatalı kısmı burası total marks 62 fakat grade F sebebide math score 45 olması"
   ]
  },
  {
   "cell_type": "code",
   "execution_count": 405,
   "id": "7004341b-1c70-48c3-92e9-40fb33d57675",
   "metadata": {
    "tags": []
   },
   "outputs": [
    {
     "data": {
      "text/html": [
       "<div>\n",
       "<style scoped>\n",
       "    .dataframe tbody tr th:only-of-type {\n",
       "        vertical-align: middle;\n",
       "    }\n",
       "\n",
       "    .dataframe tbody tr th {\n",
       "        vertical-align: top;\n",
       "    }\n",
       "\n",
       "    .dataframe thead th {\n",
       "        text-align: right;\n",
       "    }\n",
       "</style>\n",
       "<table border=\"1\" class=\"dataframe\">\n",
       "  <thead>\n",
       "    <tr style=\"text-align: right;\">\n",
       "      <th></th>\n",
       "      <th>gender</th>\n",
       "      <th>race/ethnicity</th>\n",
       "      <th>parental level of education</th>\n",
       "      <th>lunch</th>\n",
       "      <th>test preparation course</th>\n",
       "      <th>math score</th>\n",
       "      <th>reading score</th>\n",
       "      <th>writing score</th>\n",
       "      <th>Math_PassStatus</th>\n",
       "      <th>Reading_PassStatus</th>\n",
       "      <th>Writing_PassStatus</th>\n",
       "      <th>Overall_PassStatus</th>\n",
       "      <th>Total_Marks</th>\n",
       "      <th>Grade</th>\n",
       "    </tr>\n",
       "  </thead>\n",
       "  <tbody>\n",
       "    <tr>\n",
       "      <th>0</th>\n",
       "      <td>female</td>\n",
       "      <td>group B</td>\n",
       "      <td>bachelor's degree</td>\n",
       "      <td>standard</td>\n",
       "      <td>none</td>\n",
       "      <td>72</td>\n",
       "      <td>72</td>\n",
       "      <td>74</td>\n",
       "      <td>P</td>\n",
       "      <td>P</td>\n",
       "      <td>P</td>\n",
       "      <td>P</td>\n",
       "      <td>72.67</td>\n",
       "      <td>B</td>\n",
       "    </tr>\n",
       "    <tr>\n",
       "      <th>1</th>\n",
       "      <td>female</td>\n",
       "      <td>group C</td>\n",
       "      <td>some college</td>\n",
       "      <td>standard</td>\n",
       "      <td>completed</td>\n",
       "      <td>69</td>\n",
       "      <td>90</td>\n",
       "      <td>88</td>\n",
       "      <td>P</td>\n",
       "      <td>P</td>\n",
       "      <td>P</td>\n",
       "      <td>P</td>\n",
       "      <td>82.33</td>\n",
       "      <td>A</td>\n",
       "    </tr>\n",
       "    <tr>\n",
       "      <th>2</th>\n",
       "      <td>female</td>\n",
       "      <td>group B</td>\n",
       "      <td>master's degree</td>\n",
       "      <td>standard</td>\n",
       "      <td>none</td>\n",
       "      <td>90</td>\n",
       "      <td>95</td>\n",
       "      <td>93</td>\n",
       "      <td>P</td>\n",
       "      <td>P</td>\n",
       "      <td>P</td>\n",
       "      <td>P</td>\n",
       "      <td>92.67</td>\n",
       "      <td>A</td>\n",
       "    </tr>\n",
       "    <tr>\n",
       "      <th>3</th>\n",
       "      <td>male</td>\n",
       "      <td>group A</td>\n",
       "      <td>associate's degree</td>\n",
       "      <td>free/reduced</td>\n",
       "      <td>none</td>\n",
       "      <td>47</td>\n",
       "      <td>57</td>\n",
       "      <td>44</td>\n",
       "      <td>F</td>\n",
       "      <td>P</td>\n",
       "      <td>F</td>\n",
       "      <td>F</td>\n",
       "      <td>49.33</td>\n",
       "      <td>F</td>\n",
       "    </tr>\n",
       "    <tr>\n",
       "      <th>4</th>\n",
       "      <td>male</td>\n",
       "      <td>group C</td>\n",
       "      <td>some college</td>\n",
       "      <td>standard</td>\n",
       "      <td>none</td>\n",
       "      <td>76</td>\n",
       "      <td>78</td>\n",
       "      <td>75</td>\n",
       "      <td>P</td>\n",
       "      <td>P</td>\n",
       "      <td>P</td>\n",
       "      <td>P</td>\n",
       "      <td>76.33</td>\n",
       "      <td>B</td>\n",
       "    </tr>\n",
       "  </tbody>\n",
       "</table>\n",
       "</div>"
      ],
      "text/plain": [
       "   gender race/ethnicity parental level of education         lunch  \\\n",
       "0  female        group B           bachelor's degree      standard   \n",
       "1  female        group C                some college      standard   \n",
       "2  female        group B             master's degree      standard   \n",
       "3    male        group A          associate's degree  free/reduced   \n",
       "4    male        group C                some college      standard   \n",
       "\n",
       "  test preparation course  math score  reading score  writing score  \\\n",
       "0                    none          72             72             74   \n",
       "1               completed          69             90             88   \n",
       "2                    none          90             95             93   \n",
       "3                    none          47             57             44   \n",
       "4                    none          76             78             75   \n",
       "\n",
       "  Math_PassStatus Reading_PassStatus Writing_PassStatus Overall_PassStatus  \\\n",
       "0               P                  P                  P                  P   \n",
       "1               P                  P                  P                  P   \n",
       "2               P                  P                  P                  P   \n",
       "3               F                  P                  F                  F   \n",
       "4               P                  P                  P                  P   \n",
       "\n",
       "   Total_Marks Grade  \n",
       "0        72.67     B  \n",
       "1        82.33     A  \n",
       "2        92.67     A  \n",
       "3        49.33     F  \n",
       "4        76.33     B  "
      ]
     },
     "execution_count": 405,
     "metadata": {},
     "output_type": "execute_result"
    }
   ],
   "source": [
    "df.head()"
   ]
  },
  {
   "cell_type": "code",
   "execution_count": 413,
   "id": "2ffd5b2b-d2c5-460f-8a8b-2c72ed43aa3a",
   "metadata": {
    "tags": []
   },
   "outputs": [
    {
     "data": {
      "image/png": "[encoded data removed]",
      "text/plain": [
       "<Figure size 640x480 with 1 Axes>"
      ]
     },
     "metadata": {},
     "output_type": "display_data"
    }
   ],
   "source": [
    "parental_edu_counts = df[\"parental level of education\"].value_counts()\n",
    "\n",
    "parental_edu_levels = parental_edu_counts.index.tolist()\n",
    "\n",
    "math_score = []\n",
    "for level in parental_edu_levels:\n",
    "    math_score.append(df[df[\"parental level of education\"] == level][\"math score\"].mean())\n",
    "    \n",
    "plt.bar(parental_edu_levels,math_score, color=\"blue\")\n",
    "plt.xlabel(\"Aile eğitim seviyesi\")\n",
    "plt.ylabel(\"Matematik ortalaması\")\n",
    "plt.title(\"Aile Eğitim Matematik İlişkisi\")\n",
    "plt.xticks(rotation = 45)\n",
    "plt.show()"
   ]
  },
  {
   "cell_type": "code",
   "execution_count": 454,
   "id": "c28f0dc2-ded1-49ba-9cff-353cc53fde7b",
   "metadata": {
    "tags": []
   },
   "outputs": [
    {
     "data": {
      "text/plain": [
       "62.13775510204081"
      ]
     },
     "execution_count": 454,
     "metadata": {},
     "output_type": "execute_result"
    }
   ],
   "source": [
    "df[df[\"parental level of education\"] == \"high school\"][\"math score\"].mean() \n",
    "#bu kod aile eğitimi highschool olan çocukların matematik ortalamasını gösteriyor"
   ]
  },
  {
   "cell_type": "code",
   "execution_count": 448,
   "id": "0dff071b-f804-4fef-b8f9-b2156fc8f624",
   "metadata": {
    "tags": []
   },
   "outputs": [
    {
     "data": {
      "image/png": "[encoded data removed]",
      "text/plain": [
       "<Figure size 640x480 with 1 Axes>"
      ]
     },
     "metadata": {},
     "output_type": "display_data"
    }
   ],
   "source": [
    "# Aile eğitim seviyelerine göre gruplayıp matematik puanlarının ortalamasını al\n",
    "parental_edu_math_mean = df.groupby(\"parental level of education\")[\"math score\"].mean().reset_index()\n",
    "\n",
    "# Barplot çizimi\n",
    "sns.barplot(x=\"parental level of education\", y=\"math score\", data=parental_edu_math_mean, palette=\"bright\")\n",
    "plt.xticks(rotation=45)\n",
    "plt.xlabel(\"Aile eğitim seviyesi\")\n",
    "plt.ylabel(\"Matematik Ortalaması\")\n",
    "plt.title(\"Aile Eğitim Matematik İlişkisi\")\n",
    "plt.show()"
   ]
  },
  {
   "cell_type": "code",
   "execution_count": 447,
   "id": "126cfc2e-df20-4127-a91a-dca8b8007371",
   "metadata": {
    "tags": []
   },
   "outputs": [
    {
     "data": {
      "text/html": [
       "<div>\n",
       "<style scoped>\n",
       "    .dataframe tbody tr th:only-of-type {\n",
       "        vertical-align: middle;\n",
       "    }\n",
       "\n",
       "    .dataframe tbody tr th {\n",
       "        vertical-align: top;\n",
       "    }\n",
       "\n",
       "    .dataframe thead th {\n",
       "        text-align: right;\n",
       "    }\n",
       "</style>\n",
       "<table border=\"1\" class=\"dataframe\">\n",
       "  <thead>\n",
       "    <tr style=\"text-align: right;\">\n",
       "      <th></th>\n",
       "      <th>parental level of education</th>\n",
       "      <th>math score</th>\n",
       "    </tr>\n",
       "  </thead>\n",
       "  <tbody>\n",
       "    <tr>\n",
       "      <th>0</th>\n",
       "      <td>associate's degree</td>\n",
       "      <td>67.882883</td>\n",
       "    </tr>\n",
       "    <tr>\n",
       "      <th>1</th>\n",
       "      <td>bachelor's degree</td>\n",
       "      <td>69.389831</td>\n",
       "    </tr>\n",
       "    <tr>\n",
       "      <th>2</th>\n",
       "      <td>high school</td>\n",
       "      <td>62.137755</td>\n",
       "    </tr>\n",
       "    <tr>\n",
       "      <th>3</th>\n",
       "      <td>master's degree</td>\n",
       "      <td>69.745763</td>\n",
       "    </tr>\n",
       "    <tr>\n",
       "      <th>4</th>\n",
       "      <td>some college</td>\n",
       "      <td>67.128319</td>\n",
       "    </tr>\n",
       "    <tr>\n",
       "      <th>5</th>\n",
       "      <td>some high school</td>\n",
       "      <td>63.497207</td>\n",
       "    </tr>\n",
       "  </tbody>\n",
       "</table>\n",
       "</div>"
      ],
      "text/plain": [
       "  parental level of education  math score\n",
       "0          associate's degree   67.882883\n",
       "1           bachelor's degree   69.389831\n",
       "2                 high school   62.137755\n",
       "3             master's degree   69.745763\n",
       "4                some college   67.128319\n",
       "5            some high school   63.497207"
      ]
     },
     "execution_count": 447,
     "metadata": {},
     "output_type": "execute_result"
    }
   ],
   "source": [
    "#buradan değerleri karşılaştırabiliriz\n",
    "parental_edu_math_mean = df.groupby(\"parental level of education\")[\"math score\"].mean().reset_index()\n",
    "parental_edu_math_mean"
   ]
  },
  {
   "cell_type": "code",
   "execution_count": 455,
   "id": "cf0b09cc-779a-498f-bb2a-5c6dec1eabd4",
   "metadata": {
    "tags": []
   },
   "outputs": [
    {
     "data": {
      "image/png": "[encoded data removed]",
      "text/plain": [
       "<Figure size 640x480 with 1 Axes>"
      ]
     },
     "metadata": {},
     "output_type": "display_data"
    }
   ],
   "source": [
    "parental_edu_counts = df[\"parental level of education\"].value_counts()\n",
    "\n",
    "parental_edu_levels = parental_edu_counts.index.tolist()\n",
    "\n",
    "reading_score = []\n",
    "for level in parental_edu_levels:\n",
    "    reading_score.append(df[df[\"parental level of education\"] == level][\"reading score\"].mean())\n",
    "    \n",
    "plt.bar(parental_edu_levels,reading_score, color=\"blue\")\n",
    "plt.xlabel(\"Aile eğitim seviyesi\")\n",
    "plt.ylabel(\"Okuma becerisi ortalaması\")\n",
    "plt.title(\"Aile Eğitim Okuma İlişkisi\")\n",
    "plt.xticks(rotation = 45)\n",
    "plt.show()"
   ]
  },
  {
   "cell_type": "code",
   "execution_count": 458,
   "id": "b89b2a54-4a89-4502-9f71-1fd49012e370",
   "metadata": {
    "tags": []
   },
   "outputs": [
    {
     "data": {
      "text/plain": [
       "64.70408163265306"
      ]
     },
     "execution_count": 458,
     "metadata": {},
     "output_type": "execute_result"
    }
   ],
   "source": [
    "df[df[\"parental level of education\"] == \"high school\"][\"reading score\"].mean() \n",
    "#bu kod aile eğitimi highschool olan çocukların okuma ortalamasını gösteriyor"
   ]
  },
  {
   "cell_type": "code",
   "execution_count": 462,
   "id": "4556e5e5-66cf-4807-8866-99eed152c1c5",
   "metadata": {
    "tags": []
   },
   "outputs": [
    {
     "data": {
      "image/png": "[encoded data removed]",
      "text/plain": [
       "<Figure size 640x480 with 1 Axes>"
      ]
     },
     "metadata": {},
     "output_type": "display_data"
    }
   ],
   "source": [
    "# Aile eğitim seviyelerine göre gruplayıp matematik puanlarının ortalamasını al\n",
    "parental_edu_reading_mean = df.groupby(\"parental level of education\")[\"reading score\"].mean().reset_index()\n",
    "\n",
    "# Barplot çizimi\n",
    "sns.barplot(x=\"parental level of education\", y=\"reading score\", data=parental_edu_reading_mean, palette=\"bright\")\n",
    "plt.xticks(rotation=45)\n",
    "plt.xlabel(\"Aile eğitim seviyesi\")\n",
    "plt.ylabel(\"Okuma Ortalaması\")\n",
    "plt.title(\"Aile Eğitim Okuma İlişkisi\")\n",
    "plt.show()"
   ]
  },
  {
   "cell_type": "code",
   "execution_count": 463,
   "id": "c8823f54-edcd-4e06-aac5-474a1c7f0d98",
   "metadata": {
    "tags": []
   },
   "outputs": [
    {
     "data": {
      "text/html": [
       "<div>\n",
       "<style scoped>\n",
       "    .dataframe tbody tr th:only-of-type {\n",
       "        vertical-align: middle;\n",
       "    }\n",
       "\n",
       "    .dataframe tbody tr th {\n",
       "        vertical-align: top;\n",
       "    }\n",
       "\n",
       "    .dataframe thead th {\n",
       "        text-align: right;\n",
       "    }\n",
       "</style>\n",
       "<table border=\"1\" class=\"dataframe\">\n",
       "  <thead>\n",
       "    <tr style=\"text-align: right;\">\n",
       "      <th></th>\n",
       "      <th>parental level of education</th>\n",
       "      <th>reading score</th>\n",
       "    </tr>\n",
       "  </thead>\n",
       "  <tbody>\n",
       "    <tr>\n",
       "      <th>0</th>\n",
       "      <td>associate's degree</td>\n",
       "      <td>70.927928</td>\n",
       "    </tr>\n",
       "    <tr>\n",
       "      <th>1</th>\n",
       "      <td>bachelor's degree</td>\n",
       "      <td>73.000000</td>\n",
       "    </tr>\n",
       "    <tr>\n",
       "      <th>2</th>\n",
       "      <td>high school</td>\n",
       "      <td>64.704082</td>\n",
       "    </tr>\n",
       "    <tr>\n",
       "      <th>3</th>\n",
       "      <td>master's degree</td>\n",
       "      <td>75.372881</td>\n",
       "    </tr>\n",
       "    <tr>\n",
       "      <th>4</th>\n",
       "      <td>some college</td>\n",
       "      <td>69.460177</td>\n",
       "    </tr>\n",
       "    <tr>\n",
       "      <th>5</th>\n",
       "      <td>some high school</td>\n",
       "      <td>66.938547</td>\n",
       "    </tr>\n",
       "  </tbody>\n",
       "</table>\n",
       "</div>"
      ],
      "text/plain": [
       "  parental level of education  reading score\n",
       "0          associate's degree      70.927928\n",
       "1           bachelor's degree      73.000000\n",
       "2                 high school      64.704082\n",
       "3             master's degree      75.372881\n",
       "4                some college      69.460177\n",
       "5            some high school      66.938547"
      ]
     },
     "execution_count": 463,
     "metadata": {},
     "output_type": "execute_result"
    }
   ],
   "source": [
    "parental_edu_reading_mean = df.groupby(\"parental level of education\")[\"reading score\"].mean().reset_index()\n",
    "parental_edu_reading_mean  #grafikteki değerlerin sayısal karşılığı"
   ]
  },
  {
   "cell_type": "markdown",
   "id": "a2c35f4e-5694-4af1-809c-2a680093ab75",
   "metadata": {},
   "source": [
    "#### Group A : Siyahiler\n",
    "#### Group B : Koyu Tenliler\n",
    "#### Group C : Beyazlar\n",
    "#### Group D : Asyalılar\n",
    "#### Group E : ABD Yerlisi"
   ]
  },
  {
   "cell_type": "code",
   "execution_count": 464,
   "id": "c73b6a9b-5004-4ccc-90c1-f7904a95b92b",
   "metadata": {
    "tags": []
   },
   "outputs": [
    {
     "data": {
      "text/html": [
       "<div>\n",
       "<style scoped>\n",
       "    .dataframe tbody tr th:only-of-type {\n",
       "        vertical-align: middle;\n",
       "    }\n",
       "\n",
       "    .dataframe tbody tr th {\n",
       "        vertical-align: top;\n",
       "    }\n",
       "\n",
       "    .dataframe thead th {\n",
       "        text-align: right;\n",
       "    }\n",
       "</style>\n",
       "<table border=\"1\" class=\"dataframe\">\n",
       "  <thead>\n",
       "    <tr style=\"text-align: right;\">\n",
       "      <th></th>\n",
       "      <th>gender</th>\n",
       "      <th>race/ethnicity</th>\n",
       "      <th>parental level of education</th>\n",
       "      <th>lunch</th>\n",
       "      <th>test preparation course</th>\n",
       "      <th>math score</th>\n",
       "      <th>reading score</th>\n",
       "      <th>writing score</th>\n",
       "      <th>Math_PassStatus</th>\n",
       "      <th>Reading_PassStatus</th>\n",
       "      <th>Writing_PassStatus</th>\n",
       "      <th>Overall_PassStatus</th>\n",
       "      <th>Total_Marks</th>\n",
       "      <th>Grade</th>\n",
       "    </tr>\n",
       "  </thead>\n",
       "  <tbody>\n",
       "    <tr>\n",
       "      <th>0</th>\n",
       "      <td>female</td>\n",
       "      <td>group B</td>\n",
       "      <td>bachelor's degree</td>\n",
       "      <td>standard</td>\n",
       "      <td>none</td>\n",
       "      <td>72</td>\n",
       "      <td>72</td>\n",
       "      <td>74</td>\n",
       "      <td>P</td>\n",
       "      <td>P</td>\n",
       "      <td>P</td>\n",
       "      <td>P</td>\n",
       "      <td>72.67</td>\n",
       "      <td>B</td>\n",
       "    </tr>\n",
       "    <tr>\n",
       "      <th>1</th>\n",
       "      <td>female</td>\n",
       "      <td>group C</td>\n",
       "      <td>some college</td>\n",
       "      <td>standard</td>\n",
       "      <td>completed</td>\n",
       "      <td>69</td>\n",
       "      <td>90</td>\n",
       "      <td>88</td>\n",
       "      <td>P</td>\n",
       "      <td>P</td>\n",
       "      <td>P</td>\n",
       "      <td>P</td>\n",
       "      <td>82.33</td>\n",
       "      <td>A</td>\n",
       "    </tr>\n",
       "  </tbody>\n",
       "</table>\n",
       "</div>"
      ],
      "text/plain": [
       "   gender race/ethnicity parental level of education     lunch  \\\n",
       "0  female        group B           bachelor's degree  standard   \n",
       "1  female        group C                some college  standard   \n",
       "\n",
       "  test preparation course  math score  reading score  writing score  \\\n",
       "0                    none          72             72             74   \n",
       "1               completed          69             90             88   \n",
       "\n",
       "  Math_PassStatus Reading_PassStatus Writing_PassStatus Overall_PassStatus  \\\n",
       "0               P                  P                  P                  P   \n",
       "1               P                  P                  P                  P   \n",
       "\n",
       "   Total_Marks Grade  \n",
       "0        72.67     B  \n",
       "1        82.33     A  "
      ]
     },
     "execution_count": 464,
     "metadata": {},
     "output_type": "execute_result"
    }
   ],
   "source": [
    "df.head(2)"
   ]
  },
  {
   "cell_type": "code",
   "execution_count": 470,
   "id": "36dea87e-85e6-49bb-9cc5-cb0ebbd8d8ac",
   "metadata": {
    "tags": []
   },
   "outputs": [
    {
     "data": {
      "text/html": [
       "<div>\n",
       "<style scoped>\n",
       "    .dataframe tbody tr th:only-of-type {\n",
       "        vertical-align: middle;\n",
       "    }\n",
       "\n",
       "    .dataframe tbody tr th {\n",
       "        vertical-align: top;\n",
       "    }\n",
       "\n",
       "    .dataframe thead th {\n",
       "        text-align: right;\n",
       "    }\n",
       "</style>\n",
       "<table border=\"1\" class=\"dataframe\">\n",
       "  <thead>\n",
       "    <tr style=\"text-align: right;\">\n",
       "      <th></th>\n",
       "      <th>race/ethnicity</th>\n",
       "      <th>math score</th>\n",
       "    </tr>\n",
       "  </thead>\n",
       "  <tbody>\n",
       "    <tr>\n",
       "      <th>0</th>\n",
       "      <td>group A</td>\n",
       "      <td>61.629213</td>\n",
       "    </tr>\n",
       "    <tr>\n",
       "      <th>1</th>\n",
       "      <td>group B</td>\n",
       "      <td>63.452632</td>\n",
       "    </tr>\n",
       "    <tr>\n",
       "      <th>2</th>\n",
       "      <td>group C</td>\n",
       "      <td>64.463950</td>\n",
       "    </tr>\n",
       "    <tr>\n",
       "      <th>3</th>\n",
       "      <td>group D</td>\n",
       "      <td>67.362595</td>\n",
       "    </tr>\n",
       "    <tr>\n",
       "      <th>4</th>\n",
       "      <td>group E</td>\n",
       "      <td>73.821429</td>\n",
       "    </tr>\n",
       "  </tbody>\n",
       "</table>\n",
       "</div>"
      ],
      "text/plain": [
       "  race/ethnicity  math score\n",
       "0        group A   61.629213\n",
       "1        group B   63.452632\n",
       "2        group C   64.463950\n",
       "3        group D   67.362595\n",
       "4        group E   73.821429"
      ]
     },
     "execution_count": 470,
     "metadata": {},
     "output_type": "execute_result"
    }
   ],
   "source": [
    "ethnic = df.groupby(\"race/ethnicity\")[\"math score\"].mean().reset_index()\n",
    "ethnic"
   ]
  },
  {
   "cell_type": "code",
   "execution_count": 474,
   "id": "0c6b49ac-56d9-4c06-93c9-5a60f7a36d50",
   "metadata": {
    "tags": []
   },
   "outputs": [
    {
     "data": {
      "image/png": "[encoded data removed]",
      "text/plain": [
       "<Figure size 640x480 with 1 Axes>"
      ]
     },
     "metadata": {},
     "output_type": "display_data"
    }
   ],
   "source": [
    "plt.bar(ethnic[\"race/ethnicity\"], ethnic[\"math score\"])\n",
    "plt.title(\"Etnik Köken Matematik Notu\")\n",
    "plt.xlabel(\"Etnik Köken\")\n",
    "plt.ylabel(\"Matematik Notu\")\n",
    "plt.show()"
   ]
  },
  {
   "cell_type": "code",
   "execution_count": 509,
   "id": "6666fef4-805b-4c30-8c19-a7cde7bf6903",
   "metadata": {
    "tags": []
   },
   "outputs": [
    {
     "data": {
      "image/png": "[encoded data removed]",
      "text/plain": [
       "<Figure size 1006.86x600 with 1 Axes>"
      ]
     },
     "metadata": {},
     "output_type": "display_data"
    }
   ],
   "source": [
    "ethnic = df.groupby([\"race/ethnicity\",\"parental level of education\"])[\"math score\"].mean().reset_index()\n",
    "\n",
    "sns.catplot(x=\"parental level of education\",y=\"math score\",hue=\"race/ethnicity\",kind=\"bar\",data=ethnic,height=6,aspect=1.5)\n",
    "plt.title(\"Etnik Köken Matematik Notu\")\n",
    "plt.xlabel(\"Etnik Köken\")\n",
    "plt.ylabel(\"Matematik Notu\")\n",
    "plt.show()"
   ]
  },
  {
   "cell_type": "code",
   "execution_count": 510,
   "id": "6803a387-c992-4e7b-9cee-274ece1b211f",
   "metadata": {
    "tags": []
   },
   "outputs": [
    {
     "data": {
      "text/html": [
       "<div>\n",
       "<style scoped>\n",
       "    .dataframe tbody tr th:only-of-type {\n",
       "        vertical-align: middle;\n",
       "    }\n",
       "\n",
       "    .dataframe tbody tr th {\n",
       "        vertical-align: top;\n",
       "    }\n",
       "\n",
       "    .dataframe thead th {\n",
       "        text-align: right;\n",
       "    }\n",
       "</style>\n",
       "<table border=\"1\" class=\"dataframe\">\n",
       "  <thead>\n",
       "    <tr style=\"text-align: right;\">\n",
       "      <th></th>\n",
       "      <th>race/ethnicity</th>\n",
       "      <th>parental level of education</th>\n",
       "      <th>math score</th>\n",
       "    </tr>\n",
       "  </thead>\n",
       "  <tbody>\n",
       "    <tr>\n",
       "      <th>0</th>\n",
       "      <td>group A</td>\n",
       "      <td>associate's degree</td>\n",
       "      <td>61.000000</td>\n",
       "    </tr>\n",
       "    <tr>\n",
       "      <th>1</th>\n",
       "      <td>group A</td>\n",
       "      <td>bachelor's degree</td>\n",
       "      <td>67.166667</td>\n",
       "    </tr>\n",
       "    <tr>\n",
       "      <th>2</th>\n",
       "      <td>group A</td>\n",
       "      <td>high school</td>\n",
       "      <td>60.444444</td>\n",
       "    </tr>\n",
       "    <tr>\n",
       "      <th>3</th>\n",
       "      <td>group A</td>\n",
       "      <td>master's degree</td>\n",
       "      <td>57.666667</td>\n",
       "    </tr>\n",
       "    <tr>\n",
       "      <th>4</th>\n",
       "      <td>group A</td>\n",
       "      <td>some college</td>\n",
       "      <td>63.888889</td>\n",
       "    </tr>\n",
       "  </tbody>\n",
       "</table>\n",
       "</div>"
      ],
      "text/plain": [
       "  race/ethnicity parental level of education  math score\n",
       "0        group A          associate's degree   61.000000\n",
       "1        group A           bachelor's degree   67.166667\n",
       "2        group A                 high school   60.444444\n",
       "3        group A             master's degree   57.666667\n",
       "4        group A                some college   63.888889"
      ]
     },
     "execution_count": 510,
     "metadata": {},
     "output_type": "execute_result"
    }
   ],
   "source": [
    "ethnic = df.groupby([\"race/ethnicity\",\"parental level of education\"])[\"math score\"].mean().reset_index()\n",
    "ethnic.iloc[0:5] #grafikteki tüm verileri görmek"
   ]
  },
  {
   "cell_type": "code",
   "execution_count": 500,
   "id": "42050968-4c7f-4df3-96e0-15ad6569f9ca",
   "metadata": {
    "tags": []
   },
   "outputs": [
    {
     "data": {
      "text/html": [
       "<div>\n",
       "<style scoped>\n",
       "    .dataframe tbody tr th:only-of-type {\n",
       "        vertical-align: middle;\n",
       "    }\n",
       "\n",
       "    .dataframe tbody tr th {\n",
       "        vertical-align: top;\n",
       "    }\n",
       "\n",
       "    .dataframe thead th {\n",
       "        text-align: right;\n",
       "    }\n",
       "</style>\n",
       "<table border=\"1\" class=\"dataframe\">\n",
       "  <thead>\n",
       "    <tr style=\"text-align: right;\">\n",
       "      <th></th>\n",
       "      <th>race/ethnicity</th>\n",
       "      <th>parental level of education</th>\n",
       "      <th>math score</th>\n",
       "    </tr>\n",
       "  </thead>\n",
       "  <tbody>\n",
       "    <tr>\n",
       "      <th>24</th>\n",
       "      <td>group E</td>\n",
       "      <td>associate's degree</td>\n",
       "      <td>74.897436</td>\n",
       "    </tr>\n",
       "    <tr>\n",
       "      <th>25</th>\n",
       "      <td>group E</td>\n",
       "      <td>bachelor's degree</td>\n",
       "      <td>76.555556</td>\n",
       "    </tr>\n",
       "    <tr>\n",
       "      <th>26</th>\n",
       "      <td>group E</td>\n",
       "      <td>high school</td>\n",
       "      <td>70.772727</td>\n",
       "    </tr>\n",
       "    <tr>\n",
       "      <th>27</th>\n",
       "      <td>group E</td>\n",
       "      <td>master's degree</td>\n",
       "      <td>74.625000</td>\n",
       "    </tr>\n",
       "    <tr>\n",
       "      <th>28</th>\n",
       "      <td>group E</td>\n",
       "      <td>some college</td>\n",
       "      <td>73.828571</td>\n",
       "    </tr>\n",
       "    <tr>\n",
       "      <th>29</th>\n",
       "      <td>group E</td>\n",
       "      <td>some high school</td>\n",
       "      <td>72.111111</td>\n",
       "    </tr>\n",
       "  </tbody>\n",
       "</table>\n",
       "</div>"
      ],
      "text/plain": [
       "   race/ethnicity parental level of education  math score\n",
       "24        group E          associate's degree   74.897436\n",
       "25        group E           bachelor's degree   76.555556\n",
       "26        group E                 high school   70.772727\n",
       "27        group E             master's degree   74.625000\n",
       "28        group E                some college   73.828571\n",
       "29        group E            some high school   72.111111"
      ]
     },
     "execution_count": 500,
     "metadata": {},
     "output_type": "execute_result"
    }
   ],
   "source": [
    "ethnic[(ethnic[\"race/ethnicity\"] == \"group E\")]  #sadece E grubunu çağırmak"
   ]
  },
  {
   "cell_type": "code",
   "execution_count": 511,
   "id": "a9c6a7d1-ff9f-4327-a5cf-b303c35d00f0",
   "metadata": {
    "tags": []
   },
   "outputs": [
    {
     "data": {
      "text/html": [
       "<div>\n",
       "<style scoped>\n",
       "    .dataframe tbody tr th:only-of-type {\n",
       "        vertical-align: middle;\n",
       "    }\n",
       "\n",
       "    .dataframe tbody tr th {\n",
       "        vertical-align: top;\n",
       "    }\n",
       "\n",
       "    .dataframe thead th {\n",
       "        text-align: right;\n",
       "    }\n",
       "</style>\n",
       "<table border=\"1\" class=\"dataframe\">\n",
       "  <thead>\n",
       "    <tr style=\"text-align: right;\">\n",
       "      <th></th>\n",
       "      <th>gender</th>\n",
       "      <th>race/ethnicity</th>\n",
       "      <th>parental level of education</th>\n",
       "      <th>lunch</th>\n",
       "      <th>test preparation course</th>\n",
       "      <th>math score</th>\n",
       "      <th>reading score</th>\n",
       "      <th>writing score</th>\n",
       "      <th>Math_PassStatus</th>\n",
       "      <th>Reading_PassStatus</th>\n",
       "      <th>Writing_PassStatus</th>\n",
       "      <th>Overall_PassStatus</th>\n",
       "      <th>Total_Marks</th>\n",
       "      <th>Grade</th>\n",
       "    </tr>\n",
       "  </thead>\n",
       "  <tbody>\n",
       "    <tr>\n",
       "      <th>0</th>\n",
       "      <td>female</td>\n",
       "      <td>group B</td>\n",
       "      <td>bachelor's degree</td>\n",
       "      <td>standard</td>\n",
       "      <td>none</td>\n",
       "      <td>72</td>\n",
       "      <td>72</td>\n",
       "      <td>74</td>\n",
       "      <td>P</td>\n",
       "      <td>P</td>\n",
       "      <td>P</td>\n",
       "      <td>P</td>\n",
       "      <td>72.67</td>\n",
       "      <td>B</td>\n",
       "    </tr>\n",
       "    <tr>\n",
       "      <th>1</th>\n",
       "      <td>female</td>\n",
       "      <td>group C</td>\n",
       "      <td>some college</td>\n",
       "      <td>standard</td>\n",
       "      <td>completed</td>\n",
       "      <td>69</td>\n",
       "      <td>90</td>\n",
       "      <td>88</td>\n",
       "      <td>P</td>\n",
       "      <td>P</td>\n",
       "      <td>P</td>\n",
       "      <td>P</td>\n",
       "      <td>82.33</td>\n",
       "      <td>A</td>\n",
       "    </tr>\n",
       "    <tr>\n",
       "      <th>2</th>\n",
       "      <td>female</td>\n",
       "      <td>group B</td>\n",
       "      <td>master's degree</td>\n",
       "      <td>standard</td>\n",
       "      <td>none</td>\n",
       "      <td>90</td>\n",
       "      <td>95</td>\n",
       "      <td>93</td>\n",
       "      <td>P</td>\n",
       "      <td>P</td>\n",
       "      <td>P</td>\n",
       "      <td>P</td>\n",
       "      <td>92.67</td>\n",
       "      <td>A</td>\n",
       "    </tr>\n",
       "    <tr>\n",
       "      <th>3</th>\n",
       "      <td>male</td>\n",
       "      <td>group A</td>\n",
       "      <td>associate's degree</td>\n",
       "      <td>free/reduced</td>\n",
       "      <td>none</td>\n",
       "      <td>47</td>\n",
       "      <td>57</td>\n",
       "      <td>44</td>\n",
       "      <td>F</td>\n",
       "      <td>P</td>\n",
       "      <td>F</td>\n",
       "      <td>F</td>\n",
       "      <td>49.33</td>\n",
       "      <td>F</td>\n",
       "    </tr>\n",
       "    <tr>\n",
       "      <th>4</th>\n",
       "      <td>male</td>\n",
       "      <td>group C</td>\n",
       "      <td>some college</td>\n",
       "      <td>standard</td>\n",
       "      <td>none</td>\n",
       "      <td>76</td>\n",
       "      <td>78</td>\n",
       "      <td>75</td>\n",
       "      <td>P</td>\n",
       "      <td>P</td>\n",
       "      <td>P</td>\n",
       "      <td>P</td>\n",
       "      <td>76.33</td>\n",
       "      <td>B</td>\n",
       "    </tr>\n",
       "  </tbody>\n",
       "</table>\n",
       "</div>"
      ],
      "text/plain": [
       "   gender race/ethnicity parental level of education         lunch  \\\n",
       "0  female        group B           bachelor's degree      standard   \n",
       "1  female        group C                some college      standard   \n",
       "2  female        group B             master's degree      standard   \n",
       "3    male        group A          associate's degree  free/reduced   \n",
       "4    male        group C                some college      standard   \n",
       "\n",
       "  test preparation course  math score  reading score  writing score  \\\n",
       "0                    none          72             72             74   \n",
       "1               completed          69             90             88   \n",
       "2                    none          90             95             93   \n",
       "3                    none          47             57             44   \n",
       "4                    none          76             78             75   \n",
       "\n",
       "  Math_PassStatus Reading_PassStatus Writing_PassStatus Overall_PassStatus  \\\n",
       "0               P                  P                  P                  P   \n",
       "1               P                  P                  P                  P   \n",
       "2               P                  P                  P                  P   \n",
       "3               F                  P                  F                  F   \n",
       "4               P                  P                  P                  P   \n",
       "\n",
       "   Total_Marks Grade  \n",
       "0        72.67     B  \n",
       "1        82.33     A  \n",
       "2        92.67     A  \n",
       "3        49.33     F  \n",
       "4        76.33     B  "
      ]
     },
     "execution_count": 511,
     "metadata": {},
     "output_type": "execute_result"
    }
   ],
   "source": [
    "df.head()"
   ]
  },
  {
   "cell_type": "code",
   "execution_count": 531,
   "id": "e987821c-e7db-4b69-9f0e-0370d922fc1e",
   "metadata": {
    "tags": []
   },
   "outputs": [
    {
     "data": {
      "text/html": [
       "<div>\n",
       "<style scoped>\n",
       "    .dataframe tbody tr th:only-of-type {\n",
       "        vertical-align: middle;\n",
       "    }\n",
       "\n",
       "    .dataframe tbody tr th {\n",
       "        vertical-align: top;\n",
       "    }\n",
       "\n",
       "    .dataframe thead th {\n",
       "        text-align: right;\n",
       "    }\n",
       "</style>\n",
       "<table border=\"1\" class=\"dataframe\">\n",
       "  <thead>\n",
       "    <tr style=\"text-align: right;\">\n",
       "      <th></th>\n",
       "      <th>test preparation course</th>\n",
       "      <th>math score</th>\n",
       "    </tr>\n",
       "  </thead>\n",
       "  <tbody>\n",
       "    <tr>\n",
       "      <th>0</th>\n",
       "      <td>completed</td>\n",
       "      <td>69.695531</td>\n",
       "    </tr>\n",
       "    <tr>\n",
       "      <th>1</th>\n",
       "      <td>none</td>\n",
       "      <td>64.077882</td>\n",
       "    </tr>\n",
       "  </tbody>\n",
       "</table>\n",
       "</div>"
      ],
      "text/plain": [
       "  test preparation course  math score\n",
       "0               completed   69.695531\n",
       "1                    none   64.077882"
      ]
     },
     "execution_count": 531,
     "metadata": {},
     "output_type": "execute_result"
    }
   ],
   "source": [
    "grup = df.groupby(\"test preparation course\")[\"math score\"].mean().reset_index()\n",
    "grup"
   ]
  },
  {
   "cell_type": "code",
   "execution_count": 533,
   "id": "1d5edb2c-1cd1-4708-9bb1-97c82d262291",
   "metadata": {
    "tags": []
   },
   "outputs": [
    {
     "data": {
      "image/png": "[encoded data removed]",
      "text/plain": [
       "<Figure size 640x480 with 1 Axes>"
      ]
     },
     "metadata": {},
     "output_type": "display_data"
    }
   ],
   "source": [
    "grupp = df.groupby(\"test preparation course\")[\"math score\"].mean()\n",
    "plt.bar(grupp.index,grupp.values, color=[\"green\",\"Red\"])\n",
    "plt.title(\"Kurs tamamlama bilgisi\")\n",
    "plt.xlabel(\"Kurs\")\n",
    "plt.ylabel(\"Matematik\")\n",
    "plt.show()"
   ]
  },
  {
   "cell_type": "code",
   "execution_count": null,
   "id": "5d934c5d-3b3c-46e0-a899-26fa681e1e31",
   "metadata": {
    "tags": []
   },
   "outputs": [],
   "source": []
  },
  {
   "cell_type": "code",
   "execution_count": null,
   "id": "2535af9d-fd12-4629-bdbd-60ab4448f51b",
   "metadata": {},
   "outputs": [],
   "source": []
  }
 ],
 "metadata": {
  "kernelspec": {
   "display_name": "Python 3 (ipykernel)",
   "language": "python",
   "name": "python3"
  },
  "language_info": {
   "codemirror_mode": {
    "name": "ipython",
    "version": 3
   },
   "file_extension": ".py",
   "mimetype": "text/x-python",
   "name": "python",
   "nbconvert_exporter": "python",
   "pygments_lexer": "ipython3",
   "version": "3.11.4"
  }
 },
 "nbformat": 4,
 "nbformat_minor": 5
}
